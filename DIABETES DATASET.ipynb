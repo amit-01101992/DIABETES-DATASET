{
 "cells": [
  {
   "cell_type": "markdown",
   "metadata": {},
   "source": [
    "# Diabetes Dataset\n",
    "#1 perform basic EDA\n",
    "#2 apply KMeans clustering\n",
    "#3 Apply hierarchial clustering\n",
    "#4 find Random score and silhoutte coeffecient\n",
    "#5 apply PCA\n",
    "#6 apply logistic regression \n",
    "#6 apply decision tree (classifier) \n",
    "#7 apply random forest (classifier)\n",
    "\n"
   ]
  },
  {
   "cell_type": "code",
   "execution_count": 6,
   "metadata": {},
   "outputs": [],
   "source": [
    "# Import the libraries\n",
    "import numpy as np\n",
    "import pandas as pd\n",
    "from scipy.stats import norm\n",
    "from sklearn.preprocessing import StandardScaler\n",
    "import matplotlib.pyplot as plt\n",
    "import seaborn as sns"
   ]
  },
  {
   "cell_type": "code",
   "execution_count": 7,
   "metadata": {},
   "outputs": [],
   "source": [
    "from sklearn.cluster import KMeans,AgglomerativeClustering #KMeans clustering Library"
   ]
  },
  {
   "cell_type": "code",
   "execution_count": 8,
   "metadata": {},
   "outputs": [],
   "source": [
    "from sklearn.metrics import accuracy_score\n",
    "from sklearn.ensemble import RandomForestClassifier\n",
    "from sklearn.preprocessing import StandardScaler"
   ]
  },
  {
   "cell_type": "code",
   "execution_count": 9,
   "metadata": {},
   "outputs": [],
   "source": [
    "# Splitting the Data in train and test\n",
    "from sklearn.model_selection import train_test_split"
   ]
  },
  {
   "cell_type": "code",
   "execution_count": 10,
   "metadata": {},
   "outputs": [],
   "source": [
    "diab= pd.read_csv(\"C://Users//AMIT YADAV//Downloads//UNSUPERVISED LEARNING//datasets//diabetes.csv\")"
   ]
  },
  {
   "cell_type": "code",
   "execution_count": 11,
   "metadata": {},
   "outputs": [
    {
     "data": {
      "text/html": [
       "<div>\n",
       "<style scoped>\n",
       "    .dataframe tbody tr th:only-of-type {\n",
       "        vertical-align: middle;\n",
       "    }\n",
       "\n",
       "    .dataframe tbody tr th {\n",
       "        vertical-align: top;\n",
       "    }\n",
       "\n",
       "    .dataframe thead th {\n",
       "        text-align: right;\n",
       "    }\n",
       "</style>\n",
       "<table border=\"1\" class=\"dataframe\">\n",
       "  <thead>\n",
       "    <tr style=\"text-align: right;\">\n",
       "      <th></th>\n",
       "      <th>Pregnancies</th>\n",
       "      <th>Glucose</th>\n",
       "      <th>BloodPressure</th>\n",
       "      <th>SkinThickness</th>\n",
       "      <th>Insulin</th>\n",
       "      <th>BMI</th>\n",
       "      <th>DiabetesPedigreeFunction</th>\n",
       "      <th>Age</th>\n",
       "      <th>Outcome</th>\n",
       "    </tr>\n",
       "  </thead>\n",
       "  <tbody>\n",
       "    <tr>\n",
       "      <th>0</th>\n",
       "      <td>6</td>\n",
       "      <td>148</td>\n",
       "      <td>72</td>\n",
       "      <td>35</td>\n",
       "      <td>0</td>\n",
       "      <td>33.6</td>\n",
       "      <td>0.627</td>\n",
       "      <td>50</td>\n",
       "      <td>1</td>\n",
       "    </tr>\n",
       "    <tr>\n",
       "      <th>1</th>\n",
       "      <td>1</td>\n",
       "      <td>85</td>\n",
       "      <td>66</td>\n",
       "      <td>29</td>\n",
       "      <td>0</td>\n",
       "      <td>26.6</td>\n",
       "      <td>0.351</td>\n",
       "      <td>31</td>\n",
       "      <td>0</td>\n",
       "    </tr>\n",
       "    <tr>\n",
       "      <th>2</th>\n",
       "      <td>8</td>\n",
       "      <td>183</td>\n",
       "      <td>64</td>\n",
       "      <td>0</td>\n",
       "      <td>0</td>\n",
       "      <td>23.3</td>\n",
       "      <td>0.672</td>\n",
       "      <td>32</td>\n",
       "      <td>1</td>\n",
       "    </tr>\n",
       "    <tr>\n",
       "      <th>3</th>\n",
       "      <td>1</td>\n",
       "      <td>89</td>\n",
       "      <td>66</td>\n",
       "      <td>23</td>\n",
       "      <td>94</td>\n",
       "      <td>28.1</td>\n",
       "      <td>0.167</td>\n",
       "      <td>21</td>\n",
       "      <td>0</td>\n",
       "    </tr>\n",
       "    <tr>\n",
       "      <th>4</th>\n",
       "      <td>0</td>\n",
       "      <td>137</td>\n",
       "      <td>40</td>\n",
       "      <td>35</td>\n",
       "      <td>168</td>\n",
       "      <td>43.1</td>\n",
       "      <td>2.288</td>\n",
       "      <td>33</td>\n",
       "      <td>1</td>\n",
       "    </tr>\n",
       "  </tbody>\n",
       "</table>\n",
       "</div>"
      ],
      "text/plain": [
       "   Pregnancies  Glucose  BloodPressure  SkinThickness  Insulin   BMI  \\\n",
       "0            6      148             72             35        0  33.6   \n",
       "1            1       85             66             29        0  26.6   \n",
       "2            8      183             64              0        0  23.3   \n",
       "3            1       89             66             23       94  28.1   \n",
       "4            0      137             40             35      168  43.1   \n",
       "\n",
       "   DiabetesPedigreeFunction  Age  Outcome  \n",
       "0                     0.627   50        1  \n",
       "1                     0.351   31        0  \n",
       "2                     0.672   32        1  \n",
       "3                     0.167   21        0  \n",
       "4                     2.288   33        1  "
      ]
     },
     "execution_count": 11,
     "metadata": {},
     "output_type": "execute_result"
    }
   ],
   "source": [
    "diab.head()"
   ]
  },
  {
   "cell_type": "code",
   "execution_count": 12,
   "metadata": {},
   "outputs": [
    {
     "data": {
      "text/plain": [
       "(768, 9)"
      ]
     },
     "execution_count": 12,
     "metadata": {},
     "output_type": "execute_result"
    }
   ],
   "source": [
    "diab.shape"
   ]
  },
  {
   "cell_type": "code",
   "execution_count": 13,
   "metadata": {},
   "outputs": [
    {
     "name": "stdout",
     "output_type": "stream",
     "text": [
      "<class 'pandas.core.frame.DataFrame'>\n",
      "RangeIndex: 768 entries, 0 to 767\n",
      "Data columns (total 9 columns):\n",
      "Pregnancies                 768 non-null int64\n",
      "Glucose                     768 non-null int64\n",
      "BloodPressure               768 non-null int64\n",
      "SkinThickness               768 non-null int64\n",
      "Insulin                     768 non-null int64\n",
      "BMI                         768 non-null float64\n",
      "DiabetesPedigreeFunction    768 non-null float64\n",
      "Age                         768 non-null int64\n",
      "Outcome                     768 non-null int64\n",
      "dtypes: float64(2), int64(7)\n",
      "memory usage: 54.1 KB\n"
     ]
    }
   ],
   "source": [
    "diab.info()  #note- when there is preganancies chances of diabetes are high"
   ]
  },
  {
   "cell_type": "code",
   "execution_count": 14,
   "metadata": {},
   "outputs": [
    {
     "data": {
      "text/plain": [
       "Pregnancies                 35\n",
       "Glucose                     35\n",
       "BloodPressure               35\n",
       "SkinThickness               35\n",
       "Insulin                     35\n",
       "BMI                         35\n",
       "DiabetesPedigreeFunction    35\n",
       "Age                         35\n",
       "Outcome                     35\n",
       "dtype: int64"
      ]
     },
     "execution_count": 14,
     "metadata": {},
     "output_type": "execute_result"
    }
   ],
   "source": [
    "diab[diab.BloodPressure==0].count() #blood pressure can be 0 read from net"
   ]
  },
  {
   "cell_type": "markdown",
   "metadata": {},
   "source": [
    "# Performing EDA"
   ]
  },
  {
   "cell_type": "code",
   "execution_count": 15,
   "metadata": {},
   "outputs": [
    {
     "data": {
      "text/plain": [
       "<matplotlib.axes._subplots.AxesSubplot at 0x1a9853e00f0>"
      ]
     },
     "execution_count": 15,
     "metadata": {},
     "output_type": "execute_result"
    },
    {
     "data": {
      "image/png": "[encoded data removed]",
      "text/plain": [
       "<Figure size 432x288 with 1 Axes>"
      ]
     },
     "metadata": {
      "needs_background": "light"
     },
     "output_type": "display_data"
    }
   ],
   "source": [
    "#blood pressure vs outcome\n",
    "sns.boxplot(x='Outcome',y='BloodPressure',data=diab)\n",
    "\n",
    "# so here diab people habe high BP as comparison to non diab people"
   ]
  },
  {
   "cell_type": "code",
   "execution_count": 66,
   "metadata": {},
   "outputs": [
    {
     "data": {
      "text/plain": [
       "<matplotlib.axes._subplots.AxesSubplot at 0x1a985d04a20>"
      ]
     },
     "execution_count": 66,
     "metadata": {},
     "output_type": "execute_result"
    },
    {
     "data": {
      "image/png": "[encoded data removed]",
      "text/plain": [
       "<Figure size 432x288 with 1 Axes>"
      ]
     },
     "metadata": {
      "needs_background": "light"
     },
     "output_type": "display_data"
    }
   ],
   "source": [
    "sns.boxplot(x = \"Outcome\", y = \"Glucose\", data=diab, hue = \"Outcome\")\n",
    "#diabetic people have higher glucose levels"
   ]
  },
  {
   "cell_type": "code",
   "execution_count": 67,
   "metadata": {},
   "outputs": [
    {
     "data": {
      "text/plain": [
       "<matplotlib.collections.PathCollection at 0x1a985cf36d8>"
      ]
     },
     "execution_count": 67,
     "metadata": {},
     "output_type": "execute_result"
    },
    {
     "data": {
      "image/png": "[encoded data removed]",
      "text/plain": [
       "<Figure size 432x288 with 1 Axes>"
      ]
     },
     "metadata": {
      "needs_background": "light"
     },
     "output_type": "display_data"
    }
   ],
   "source": [
    "#check if any pattern exist between insulin and glucose\n",
    "plt.scatter(diab.Glucose,diab.Insulin)\n",
    "#we get that high glucose means high insulin"
   ]
  },
  {
   "cell_type": "code",
   "execution_count": 16,
   "metadata": {},
   "outputs": [
    {
     "data": {
      "text/plain": [
       "<matplotlib.axes._subplots.AxesSubplot at 0x1a98515d748>"
      ]
     },
     "execution_count": 16,
     "metadata": {},
     "output_type": "execute_result"
    },
    {
     "data": {
      "image/png": "[encoded data removed]",
      "text/plain": [
       "<Figure size 432x288 with 1 Axes>"
      ]
     },
     "metadata": {
      "needs_background": "light"
     },
     "output_type": "display_data"
    }
   ],
   "source": [
    "sns.boxplot(x='Outcome',y='BMI',data=diab)\n",
    "#SO people have high BMI have higher chance of diabeties\n"
   ]
  },
  {
   "cell_type": "code",
   "execution_count": 68,
   "metadata": {},
   "outputs": [
    {
     "data": {
      "text/plain": [
       "<matplotlib.axes._subplots.AxesSubplot at 0x1a985db28d0>"
      ]
     },
     "execution_count": 68,
     "metadata": {},
     "output_type": "execute_result"
    },
    {
     "data": {
      "image/png": "[encoded data removed]",
      "text/plain": [
       "<Figure size 432x288 with 1 Axes>"
      ]
     },
     "metadata": {
      "needs_background": "light"
     },
     "output_type": "display_data"
    }
   ],
   "source": [
    "sns.boxplot(x = \"Outcome\", y = \"Insulin\", data=diab, hue = \"Outcome\")"
   ]
  },
  {
   "cell_type": "markdown",
   "metadata": {},
   "source": [
    "# Doing Feature Engineering"
   ]
  },
  {
   "cell_type": "code",
   "execution_count": 17,
   "metadata": {},
   "outputs": [],
   "source": [
    "#doing feature engineering\n",
    "#feature extraction-BMI scale\n",
    "#BMI SCALE  18-25 HEALTHY, 25-29 overweight, 30-39-obese, >39: adnan sami\n"
   ]
  },
  {
   "cell_type": "code",
   "execution_count": 18,
   "metadata": {},
   "outputs": [
    {
     "name": "stdout",
     "output_type": "stream",
     "text": [
      "no\n"
     ]
    }
   ],
   "source": [
    "if (diab.BMI[1]>30):\n",
    "    print('yes')\n",
    "else:\n",
    "    print('no')\n",
    "    "
   ]
  },
  {
   "cell_type": "code",
   "execution_count": 146,
   "metadata": {},
   "outputs": [
    {
     "data": {
      "text/plain": [
       "768"
      ]
     },
     "execution_count": 146,
     "metadata": {},
     "output_type": "execute_result"
    }
   ],
   "source": [
    "diab.shape[0]"
   ]
  },
  {
   "cell_type": "code",
   "execution_count": 19,
   "metadata": {},
   "outputs": [],
   "source": [
    "bmi_labels=[]\n",
    "\n",
    "for i in range(0, diab.shape[0]):\n",
    "    if (diab['BMI'][i]>30):\n",
    "        bmi_labels.append('Obese')\n",
    "    else:\n",
    "        bmi_labels.append('Healthy')"
   ]
  },
  {
   "cell_type": "code",
   "execution_count": 20,
   "metadata": {},
   "outputs": [],
   "source": [
    "diab['BMI Labels']=bmi_labels"
   ]
  },
  {
   "cell_type": "code",
   "execution_count": 21,
   "metadata": {},
   "outputs": [
    {
     "data": {
      "text/html": [
       "<div>\n",
       "<style scoped>\n",
       "    .dataframe tbody tr th:only-of-type {\n",
       "        vertical-align: middle;\n",
       "    }\n",
       "\n",
       "    .dataframe tbody tr th {\n",
       "        vertical-align: top;\n",
       "    }\n",
       "\n",
       "    .dataframe thead th {\n",
       "        text-align: right;\n",
       "    }\n",
       "</style>\n",
       "<table border=\"1\" class=\"dataframe\">\n",
       "  <thead>\n",
       "    <tr style=\"text-align: right;\">\n",
       "      <th></th>\n",
       "      <th>Pregnancies</th>\n",
       "      <th>Glucose</th>\n",
       "      <th>BloodPressure</th>\n",
       "      <th>SkinThickness</th>\n",
       "      <th>Insulin</th>\n",
       "      <th>BMI</th>\n",
       "      <th>DiabetesPedigreeFunction</th>\n",
       "      <th>Age</th>\n",
       "      <th>Outcome</th>\n",
       "      <th>BMI Labels</th>\n",
       "    </tr>\n",
       "  </thead>\n",
       "  <tbody>\n",
       "    <tr>\n",
       "      <th>0</th>\n",
       "      <td>6</td>\n",
       "      <td>148</td>\n",
       "      <td>72</td>\n",
       "      <td>35</td>\n",
       "      <td>0</td>\n",
       "      <td>33.6</td>\n",
       "      <td>0.627</td>\n",
       "      <td>50</td>\n",
       "      <td>1</td>\n",
       "      <td>Obese</td>\n",
       "    </tr>\n",
       "    <tr>\n",
       "      <th>1</th>\n",
       "      <td>1</td>\n",
       "      <td>85</td>\n",
       "      <td>66</td>\n",
       "      <td>29</td>\n",
       "      <td>0</td>\n",
       "      <td>26.6</td>\n",
       "      <td>0.351</td>\n",
       "      <td>31</td>\n",
       "      <td>0</td>\n",
       "      <td>Healthy</td>\n",
       "    </tr>\n",
       "    <tr>\n",
       "      <th>2</th>\n",
       "      <td>8</td>\n",
       "      <td>183</td>\n",
       "      <td>64</td>\n",
       "      <td>0</td>\n",
       "      <td>0</td>\n",
       "      <td>23.3</td>\n",
       "      <td>0.672</td>\n",
       "      <td>32</td>\n",
       "      <td>1</td>\n",
       "      <td>Healthy</td>\n",
       "    </tr>\n",
       "    <tr>\n",
       "      <th>3</th>\n",
       "      <td>1</td>\n",
       "      <td>89</td>\n",
       "      <td>66</td>\n",
       "      <td>23</td>\n",
       "      <td>94</td>\n",
       "      <td>28.1</td>\n",
       "      <td>0.167</td>\n",
       "      <td>21</td>\n",
       "      <td>0</td>\n",
       "      <td>Healthy</td>\n",
       "    </tr>\n",
       "    <tr>\n",
       "      <th>4</th>\n",
       "      <td>0</td>\n",
       "      <td>137</td>\n",
       "      <td>40</td>\n",
       "      <td>35</td>\n",
       "      <td>168</td>\n",
       "      <td>43.1</td>\n",
       "      <td>2.288</td>\n",
       "      <td>33</td>\n",
       "      <td>1</td>\n",
       "      <td>Obese</td>\n",
       "    </tr>\n",
       "  </tbody>\n",
       "</table>\n",
       "</div>"
      ],
      "text/plain": [
       "   Pregnancies  Glucose  BloodPressure  SkinThickness  Insulin   BMI  \\\n",
       "0            6      148             72             35        0  33.6   \n",
       "1            1       85             66             29        0  26.6   \n",
       "2            8      183             64              0        0  23.3   \n",
       "3            1       89             66             23       94  28.1   \n",
       "4            0      137             40             35      168  43.1   \n",
       "\n",
       "   DiabetesPedigreeFunction  Age  Outcome BMI Labels  \n",
       "0                     0.627   50        1      Obese  \n",
       "1                     0.351   31        0    Healthy  \n",
       "2                     0.672   32        1    Healthy  \n",
       "3                     0.167   21        0    Healthy  \n",
       "4                     2.288   33        1      Obese  "
      ]
     },
     "execution_count": 21,
     "metadata": {},
     "output_type": "execute_result"
    }
   ],
   "source": [
    "diab.head()"
   ]
  },
  {
   "cell_type": "code",
   "execution_count": 22,
   "metadata": {},
   "outputs": [],
   "source": [
    "def bmi_labs(x):\n",
    "    if x<30:\n",
    "        return ('overweight')\n",
    "    elif x<25:\n",
    "        return('healthy')\n",
    "    else:\n",
    "        return('Obese')        "
   ]
  },
  {
   "cell_type": "code",
   "execution_count": 23,
   "metadata": {},
   "outputs": [
    {
     "data": {
      "text/plain": [
       "0           Obese\n",
       "1      overweight\n",
       "2      overweight\n",
       "3      overweight\n",
       "4           Obese\n",
       "5      overweight\n",
       "6           Obese\n",
       "7           Obese\n",
       "8           Obese\n",
       "9      overweight\n",
       "10          Obese\n",
       "11          Obese\n",
       "12     overweight\n",
       "13          Obese\n",
       "14     overweight\n",
       "15          Obese\n",
       "16          Obese\n",
       "17     overweight\n",
       "18          Obese\n",
       "19          Obese\n",
       "20          Obese\n",
       "21          Obese\n",
       "22          Obese\n",
       "23     overweight\n",
       "24          Obese\n",
       "25          Obese\n",
       "26          Obese\n",
       "27     overweight\n",
       "28     overweight\n",
       "29          Obese\n",
       "          ...    \n",
       "738         Obese\n",
       "739         Obese\n",
       "740         Obese\n",
       "741         Obese\n",
       "742    overweight\n",
       "743         Obese\n",
       "744         Obese\n",
       "745         Obese\n",
       "746         Obese\n",
       "747         Obese\n",
       "748         Obese\n",
       "749    overweight\n",
       "750         Obese\n",
       "751         Obese\n",
       "752    overweight\n",
       "753         Obese\n",
       "754         Obese\n",
       "755         Obese\n",
       "756         Obese\n",
       "757         Obese\n",
       "758         Obese\n",
       "759         Obese\n",
       "760    overweight\n",
       "761         Obese\n",
       "762    overweight\n",
       "763         Obese\n",
       "764         Obese\n",
       "765    overweight\n",
       "766         Obese\n",
       "767         Obese\n",
       "Name: BMI, Length: 768, dtype: object"
      ]
     },
     "execution_count": 23,
     "metadata": {},
     "output_type": "execute_result"
    }
   ],
   "source": [
    "diab['BMI'].apply(bmi_labs)"
   ]
  },
  {
   "cell_type": "markdown",
   "metadata": {},
   "source": [
    "# Applying one hot encoding"
   ]
  },
  {
   "cell_type": "code",
   "execution_count": 92,
   "metadata": {},
   "outputs": [],
   "source": [
    "#applying one hot encoding on all the categorical columns\n",
    "dummy_diab=pd.get_dummies(diab)"
   ]
  },
  {
   "cell_type": "code",
   "execution_count": 93,
   "metadata": {},
   "outputs": [
    {
     "data": {
      "text/html": [
       "<div>\n",
       "<style scoped>\n",
       "    .dataframe tbody tr th:only-of-type {\n",
       "        vertical-align: middle;\n",
       "    }\n",
       "\n",
       "    .dataframe tbody tr th {\n",
       "        vertical-align: top;\n",
       "    }\n",
       "\n",
       "    .dataframe thead th {\n",
       "        text-align: right;\n",
       "    }\n",
       "</style>\n",
       "<table border=\"1\" class=\"dataframe\">\n",
       "  <thead>\n",
       "    <tr style=\"text-align: right;\">\n",
       "      <th></th>\n",
       "      <th>Pregnancies</th>\n",
       "      <th>Glucose</th>\n",
       "      <th>BloodPressure</th>\n",
       "      <th>SkinThickness</th>\n",
       "      <th>Insulin</th>\n",
       "      <th>BMI</th>\n",
       "      <th>DiabetesPedigreeFunction</th>\n",
       "      <th>Age</th>\n",
       "      <th>Outcome</th>\n",
       "      <th>BMI Labels_Healthy</th>\n",
       "      <th>BMI Labels_Obese</th>\n",
       "    </tr>\n",
       "  </thead>\n",
       "  <tbody>\n",
       "    <tr>\n",
       "      <th>0</th>\n",
       "      <td>6</td>\n",
       "      <td>148</td>\n",
       "      <td>72</td>\n",
       "      <td>35</td>\n",
       "      <td>0</td>\n",
       "      <td>33.6</td>\n",
       "      <td>0.627</td>\n",
       "      <td>50</td>\n",
       "      <td>1</td>\n",
       "      <td>0</td>\n",
       "      <td>1</td>\n",
       "    </tr>\n",
       "    <tr>\n",
       "      <th>1</th>\n",
       "      <td>1</td>\n",
       "      <td>85</td>\n",
       "      <td>66</td>\n",
       "      <td>29</td>\n",
       "      <td>0</td>\n",
       "      <td>26.6</td>\n",
       "      <td>0.351</td>\n",
       "      <td>31</td>\n",
       "      <td>0</td>\n",
       "      <td>1</td>\n",
       "      <td>0</td>\n",
       "    </tr>\n",
       "    <tr>\n",
       "      <th>2</th>\n",
       "      <td>8</td>\n",
       "      <td>183</td>\n",
       "      <td>64</td>\n",
       "      <td>0</td>\n",
       "      <td>0</td>\n",
       "      <td>23.3</td>\n",
       "      <td>0.672</td>\n",
       "      <td>32</td>\n",
       "      <td>1</td>\n",
       "      <td>1</td>\n",
       "      <td>0</td>\n",
       "    </tr>\n",
       "    <tr>\n",
       "      <th>3</th>\n",
       "      <td>1</td>\n",
       "      <td>89</td>\n",
       "      <td>66</td>\n",
       "      <td>23</td>\n",
       "      <td>94</td>\n",
       "      <td>28.1</td>\n",
       "      <td>0.167</td>\n",
       "      <td>21</td>\n",
       "      <td>0</td>\n",
       "      <td>1</td>\n",
       "      <td>0</td>\n",
       "    </tr>\n",
       "    <tr>\n",
       "      <th>4</th>\n",
       "      <td>0</td>\n",
       "      <td>137</td>\n",
       "      <td>40</td>\n",
       "      <td>35</td>\n",
       "      <td>168</td>\n",
       "      <td>43.1</td>\n",
       "      <td>2.288</td>\n",
       "      <td>33</td>\n",
       "      <td>1</td>\n",
       "      <td>0</td>\n",
       "      <td>1</td>\n",
       "    </tr>\n",
       "  </tbody>\n",
       "</table>\n",
       "</div>"
      ],
      "text/plain": [
       "   Pregnancies  Glucose  BloodPressure  SkinThickness  Insulin   BMI  \\\n",
       "0            6      148             72             35        0  33.6   \n",
       "1            1       85             66             29        0  26.6   \n",
       "2            8      183             64              0        0  23.3   \n",
       "3            1       89             66             23       94  28.1   \n",
       "4            0      137             40             35      168  43.1   \n",
       "\n",
       "   DiabetesPedigreeFunction  Age  Outcome  BMI Labels_Healthy  \\\n",
       "0                     0.627   50        1                   0   \n",
       "1                     0.351   31        0                   1   \n",
       "2                     0.672   32        1                   1   \n",
       "3                     0.167   21        0                   1   \n",
       "4                     2.288   33        1                   0   \n",
       "\n",
       "   BMI Labels_Obese  \n",
       "0                 1  \n",
       "1                 0  \n",
       "2                 0  \n",
       "3                 0  \n",
       "4                 1  "
      ]
     },
     "execution_count": 93,
     "metadata": {},
     "output_type": "execute_result"
    }
   ],
   "source": [
    "dummy_diab.head()"
   ]
  },
  {
   "cell_type": "code",
   "execution_count": 94,
   "metadata": {},
   "outputs": [
    {
     "data": {
      "text/plain": [
       "Index(['Pregnancies', 'Glucose', 'BloodPressure', 'SkinThickness', 'Insulin',\n",
       "       'BMI', 'DiabetesPedigreeFunction', 'Age', 'Outcome',\n",
       "       'BMI Labels_Healthy', 'BMI Labels_Obese'],\n",
       "      dtype='object')"
      ]
     },
     "execution_count": 94,
     "metadata": {},
     "output_type": "execute_result"
    }
   ],
   "source": [
    "dummy_diab.columns"
   ]
  },
  {
   "cell_type": "code",
   "execution_count": 96,
   "metadata": {},
   "outputs": [],
   "source": [
    "newdiab=dummy_diab.drop('Outcome',axis=1)"
   ]
  },
  {
   "cell_type": "markdown",
   "metadata": {},
   "source": [
    "# Applying standard scalar"
   ]
  },
  {
   "cell_type": "code",
   "execution_count": 97,
   "metadata": {},
   "outputs": [
    {
     "name": "stderr",
     "output_type": "stream",
     "text": [
      "C:\\Users\\AMIT YADAV\\AppData\\Local\\Continuum\\anaconda3\\lib\\site-packages\\sklearn\\preprocessing\\data.py:625: DataConversionWarning: Data with input dtype uint8, int64, float64 were all converted to float64 by StandardScaler.\n",
      "  return self.partial_fit(X, y)\n",
      "C:\\Users\\AMIT YADAV\\AppData\\Local\\Continuum\\anaconda3\\lib\\site-packages\\sklearn\\base.py:462: DataConversionWarning: Data with input dtype uint8, int64, float64 were all converted to float64 by StandardScaler.\n",
      "  return self.fit(X, **fit_params).transform(X)\n"
     ]
    }
   ],
   "source": [
    "from sklearn.preprocessing import StandardScaler\n",
    "sc=StandardScaler()\n",
    "scaled_diab=pd.DataFrame(sc.fit_transform(newdiab),columns=newdiab.columns)"
   ]
  },
  {
   "cell_type": "code",
   "execution_count": 98,
   "metadata": {},
   "outputs": [
    {
     "data": {
      "text/html": [
       "<div>\n",
       "<style scoped>\n",
       "    .dataframe tbody tr th:only-of-type {\n",
       "        vertical-align: middle;\n",
       "    }\n",
       "\n",
       "    .dataframe tbody tr th {\n",
       "        vertical-align: top;\n",
       "    }\n",
       "\n",
       "    .dataframe thead th {\n",
       "        text-align: right;\n",
       "    }\n",
       "</style>\n",
       "<table border=\"1\" class=\"dataframe\">\n",
       "  <thead>\n",
       "    <tr style=\"text-align: right;\">\n",
       "      <th></th>\n",
       "      <th>Pregnancies</th>\n",
       "      <th>Glucose</th>\n",
       "      <th>BloodPressure</th>\n",
       "      <th>SkinThickness</th>\n",
       "      <th>Insulin</th>\n",
       "      <th>BMI</th>\n",
       "      <th>DiabetesPedigreeFunction</th>\n",
       "      <th>Age</th>\n",
       "      <th>BMI Labels_Healthy</th>\n",
       "      <th>BMI Labels_Obese</th>\n",
       "    </tr>\n",
       "  </thead>\n",
       "  <tbody>\n",
       "    <tr>\n",
       "      <th>0</th>\n",
       "      <td>0.639947</td>\n",
       "      <td>0.848324</td>\n",
       "      <td>0.149641</td>\n",
       "      <td>0.907270</td>\n",
       "      <td>-0.692891</td>\n",
       "      <td>0.204013</td>\n",
       "      <td>0.468492</td>\n",
       "      <td>1.425995</td>\n",
       "      <td>-0.807225</td>\n",
       "      <td>0.807225</td>\n",
       "    </tr>\n",
       "    <tr>\n",
       "      <th>1</th>\n",
       "      <td>-0.844885</td>\n",
       "      <td>-1.123396</td>\n",
       "      <td>-0.160546</td>\n",
       "      <td>0.530902</td>\n",
       "      <td>-0.692891</td>\n",
       "      <td>-0.684422</td>\n",
       "      <td>-0.365061</td>\n",
       "      <td>-0.190672</td>\n",
       "      <td>1.238811</td>\n",
       "      <td>-1.238811</td>\n",
       "    </tr>\n",
       "    <tr>\n",
       "      <th>2</th>\n",
       "      <td>1.233880</td>\n",
       "      <td>1.943724</td>\n",
       "      <td>-0.263941</td>\n",
       "      <td>-1.288212</td>\n",
       "      <td>-0.692891</td>\n",
       "      <td>-1.103255</td>\n",
       "      <td>0.604397</td>\n",
       "      <td>-0.105584</td>\n",
       "      <td>1.238811</td>\n",
       "      <td>-1.238811</td>\n",
       "    </tr>\n",
       "    <tr>\n",
       "      <th>3</th>\n",
       "      <td>-0.844885</td>\n",
       "      <td>-0.998208</td>\n",
       "      <td>-0.160546</td>\n",
       "      <td>0.154533</td>\n",
       "      <td>0.123302</td>\n",
       "      <td>-0.494043</td>\n",
       "      <td>-0.920763</td>\n",
       "      <td>-1.041549</td>\n",
       "      <td>1.238811</td>\n",
       "      <td>-1.238811</td>\n",
       "    </tr>\n",
       "    <tr>\n",
       "      <th>4</th>\n",
       "      <td>-1.141852</td>\n",
       "      <td>0.504055</td>\n",
       "      <td>-1.504687</td>\n",
       "      <td>0.907270</td>\n",
       "      <td>0.765836</td>\n",
       "      <td>1.409746</td>\n",
       "      <td>5.484909</td>\n",
       "      <td>-0.020496</td>\n",
       "      <td>-0.807225</td>\n",
       "      <td>0.807225</td>\n",
       "    </tr>\n",
       "  </tbody>\n",
       "</table>\n",
       "</div>"
      ],
      "text/plain": [
       "   Pregnancies   Glucose  BloodPressure  SkinThickness   Insulin       BMI  \\\n",
       "0     0.639947  0.848324       0.149641       0.907270 -0.692891  0.204013   \n",
       "1    -0.844885 -1.123396      -0.160546       0.530902 -0.692891 -0.684422   \n",
       "2     1.233880  1.943724      -0.263941      -1.288212 -0.692891 -1.103255   \n",
       "3    -0.844885 -0.998208      -0.160546       0.154533  0.123302 -0.494043   \n",
       "4    -1.141852  0.504055      -1.504687       0.907270  0.765836  1.409746   \n",
       "\n",
       "   DiabetesPedigreeFunction       Age  BMI Labels_Healthy  BMI Labels_Obese  \n",
       "0                  0.468492  1.425995           -0.807225          0.807225  \n",
       "1                 -0.365061 -0.190672            1.238811         -1.238811  \n",
       "2                  0.604397 -0.105584            1.238811         -1.238811  \n",
       "3                 -0.920763 -1.041549            1.238811         -1.238811  \n",
       "4                  5.484909 -0.020496           -0.807225          0.807225  "
      ]
     },
     "execution_count": 98,
     "metadata": {},
     "output_type": "execute_result"
    }
   ],
   "source": [
    "scaled_diab.head()"
   ]
  },
  {
   "cell_type": "markdown",
   "metadata": {},
   "source": [
    "# APPLYING KMEANS CLUSTERING"
   ]
  },
  {
   "cell_type": "markdown",
   "metadata": {},
   "source": [
    "# ELBOW PLOT"
   ]
  },
  {
   "cell_type": "code",
   "execution_count": 119,
   "metadata": {},
   "outputs": [],
   "source": [
    "wcss=[]\n",
    "\n",
    "for i in range(1,10):#loop will run 1 to 10 times\n",
    "    k=KMeans(n_clusters=i)#defined the K\n",
    "    k.fit_predict(scaled_diab)\n",
    "    wcss.append(k.inertia_)"
   ]
  },
  {
   "cell_type": "code",
   "execution_count": 120,
   "metadata": {},
   "outputs": [
    {
     "data": {
      "text/plain": [
       "[7680.0,\n",
       " 5535.376675402387,\n",
       " 4923.013035655895,\n",
       " 4470.800011080443,\n",
       " 4045.1832786352916,\n",
       " 3699.6167720479616,\n",
       " 3523.2395296610866,\n",
       " 3284.9348619113557,\n",
       " 3160.5935598110195]"
      ]
     },
     "execution_count": 120,
     "metadata": {},
     "output_type": "execute_result"
    }
   ],
   "source": [
    "wcss"
   ]
  },
  {
   "cell_type": "code",
   "execution_count": 121,
   "metadata": {},
   "outputs": [
    {
     "data": {
      "text/plain": [
       "Text(0.5, 1.0, 'pca components')"
      ]
     },
     "execution_count": 121,
     "metadata": {},
     "output_type": "execute_result"
    },
    {
     "data": {
      "image/png": "[encoded data removed]",
      "text/plain": [
       "<Figure size 432x288 with 1 Axes>"
      ]
     },
     "metadata": {
      "needs_background": "light"
     },
     "output_type": "display_data"
    }
   ],
   "source": [
    "plt.plot(range(1,10),wcss, '-o',linestyle='dashed',markerfacecolor='red',markersize=10)  #-o represents line type\n",
    "#so from plot we get optimal value of clusters =3\n",
    "plt.xlabel('eigenvectors')\n",
    "plt.ylabel('no of components')\n",
    "plt.title('pca components')"
   ]
  },
  {
   "cell_type": "code",
   "execution_count": 134,
   "metadata": {},
   "outputs": [],
   "source": [
    "labels=diab['Outcome']  #target column"
   ]
  },
  {
   "cell_type": "code",
   "execution_count": 135,
   "metadata": {},
   "outputs": [
    {
     "data": {
      "text/plain": [
       "0    500\n",
       "1    268\n",
       "Name: Outcome, dtype: int64"
      ]
     },
     "execution_count": 135,
     "metadata": {},
     "output_type": "execute_result"
    }
   ],
   "source": [
    "labels.value_counts()"
   ]
  },
  {
   "cell_type": "code",
   "execution_count": 136,
   "metadata": {},
   "outputs": [],
   "source": [
    "#applying kmeans clustering\n",
    "#initiate the k means algorithm\n",
    "k=KMeans(n_clusters=2)  #since here the clusters are 3 ie sentosa,versicolor and virginica\n"
   ]
  },
  {
   "cell_type": "code",
   "execution_count": 137,
   "metadata": {},
   "outputs": [],
   "source": [
    "#since the fit and predict will apply on the whole data here\n",
    "newlabels=k.fit_predict(scaled_diab) #fitting the kmeans clustering on the data"
   ]
  },
  {
   "cell_type": "code",
   "execution_count": 138,
   "metadata": {},
   "outputs": [
    {
     "data": {
      "text/plain": [
       "0    1\n",
       "1    0\n",
       "2    1\n",
       "3    0\n",
       "4    1\n",
       "Name: Outcome, dtype: int64"
      ]
     },
     "execution_count": 138,
     "metadata": {},
     "output_type": "execute_result"
    }
   ],
   "source": [
    "labels.head()"
   ]
  },
  {
   "cell_type": "code",
   "execution_count": 131,
   "metadata": {},
   "outputs": [],
   "source": [
    "from sklearn.metrics import adjusted_rand_score\n",
    "from sklearn.metrics import silhouette_score"
   ]
  },
  {
   "cell_type": "code",
   "execution_count": 139,
   "metadata": {},
   "outputs": [
    {
     "data": {
      "text/plain": [
       "0.039507351676518206"
      ]
     },
     "execution_count": 139,
     "metadata": {},
     "output_type": "execute_result"
    }
   ],
   "source": [
    "adjusted_rand_score(labels,newlabels)"
   ]
  },
  {
   "cell_type": "code",
   "execution_count": 140,
   "metadata": {},
   "outputs": [
    {
     "data": {
      "text/plain": [
       "0.2849861498972873"
      ]
     },
     "execution_count": 140,
     "metadata": {},
     "output_type": "execute_result"
    }
   ],
   "source": [
    "silhouette_score(scaled_diab,newlabels)"
   ]
  },
  {
   "cell_type": "markdown",
   "metadata": {},
   "source": [
    "# Applying Agglomerative Clustering"
   ]
  },
  {
   "cell_type": "code",
   "execution_count": 141,
   "metadata": {},
   "outputs": [],
   "source": [
    "from sklearn.cluster import AgglomerativeClustering\n",
    "Agg=  AgglomerativeClustering(n_clusters=2)"
   ]
  },
  {
   "cell_type": "code",
   "execution_count": 142,
   "metadata": {},
   "outputs": [],
   "source": [
    "newlabels1=Agg.fit_predict(scaled_diab) "
   ]
  },
  {
   "cell_type": "code",
   "execution_count": 143,
   "metadata": {},
   "outputs": [
    {
     "data": {
      "text/plain": [
       "0.031108377165060347"
      ]
     },
     "execution_count": 143,
     "metadata": {},
     "output_type": "execute_result"
    }
   ],
   "source": [
    "adjusted_rand_score(labels,newlabels1)"
   ]
  },
  {
   "cell_type": "code",
   "execution_count": 144,
   "metadata": {},
   "outputs": [
    {
     "data": {
      "text/plain": [
       "0.2774567741183462"
      ]
     },
     "execution_count": 144,
     "metadata": {},
     "output_type": "execute_result"
    }
   ],
   "source": [
    "silhouette_score(scaled_diab,newlabels1)"
   ]
  },
  {
   "cell_type": "markdown",
   "metadata": {},
   "source": [
    "# Applying PCA"
   ]
  },
  {
   "cell_type": "code",
   "execution_count": 43,
   "metadata": {},
   "outputs": [],
   "source": [
    "#applying PCA\n",
    "#finding covariance matrix by applying correlation \n",
    "#first of all we have to find the mean of the data\n",
    "mean_diab=np.mean(scaled_diab,axis=0)"
   ]
  },
  {
   "cell_type": "code",
   "execution_count": 44,
   "metadata": {},
   "outputs": [
    {
     "data": {
      "text/plain": [
       "Pregnancies                 2.544261e-17\n",
       "Glucose                     3.614007e-18\n",
       "BloodPressure              -1.327244e-17\n",
       "SkinThickness               7.994184e-17\n",
       "Insulin                    -3.556183e-17\n",
       "BMI                         2.295979e-16\n",
       "DiabetesPedigreeFunction    2.398978e-16\n",
       "Age                         1.857600e-16\n",
       "Outcome                     2.408374e-16\n",
       "BMI Labels_Healthy         -1.156482e-16\n",
       "BMI Labels_Obese            1.156482e-16\n",
       "dtype: float64"
      ]
     },
     "execution_count": 44,
     "metadata": {},
     "output_type": "execute_result"
    }
   ],
   "source": [
    "mean_diab"
   ]
  },
  {
   "cell_type": "code",
   "execution_count": 45,
   "metadata": {},
   "outputs": [],
   "source": [
    "cov_matrix=(scaled_diab-mean_diab).T.dot((scaled_diab-mean_diab))/(scaled_diab.shape[0]-1)  #here dot function automatically do sum\n",
    "                                                                                                     #iris_transform.shape[0]=n\n",
    "                                                                                                    #see formula of covariance"
   ]
  },
  {
   "cell_type": "code",
   "execution_count": 46,
   "metadata": {},
   "outputs": [
    {
     "data": {
      "text/html": [
       "<div>\n",
       "<style scoped>\n",
       "    .dataframe tbody tr th:only-of-type {\n",
       "        vertical-align: middle;\n",
       "    }\n",
       "\n",
       "    .dataframe tbody tr th {\n",
       "        vertical-align: top;\n",
       "    }\n",
       "\n",
       "    .dataframe thead th {\n",
       "        text-align: right;\n",
       "    }\n",
       "</style>\n",
       "<table border=\"1\" class=\"dataframe\">\n",
       "  <thead>\n",
       "    <tr style=\"text-align: right;\">\n",
       "      <th></th>\n",
       "      <th>Pregnancies</th>\n",
       "      <th>Glucose</th>\n",
       "      <th>BloodPressure</th>\n",
       "      <th>SkinThickness</th>\n",
       "      <th>Insulin</th>\n",
       "      <th>BMI</th>\n",
       "      <th>DiabetesPedigreeFunction</th>\n",
       "      <th>Age</th>\n",
       "      <th>Outcome</th>\n",
       "      <th>BMI Labels_Healthy</th>\n",
       "      <th>BMI Labels_Obese</th>\n",
       "    </tr>\n",
       "  </thead>\n",
       "  <tbody>\n",
       "    <tr>\n",
       "      <th>Pregnancies</th>\n",
       "      <td>1.001304</td>\n",
       "      <td>0.129627</td>\n",
       "      <td>0.141466</td>\n",
       "      <td>-0.081778</td>\n",
       "      <td>-0.073630</td>\n",
       "      <td>0.017706</td>\n",
       "      <td>-0.033566</td>\n",
       "      <td>0.545051</td>\n",
       "      <td>0.222187</td>\n",
       "      <td>-0.049948</td>\n",
       "      <td>0.049948</td>\n",
       "    </tr>\n",
       "    <tr>\n",
       "      <th>Glucose</th>\n",
       "      <td>0.129627</td>\n",
       "      <td>1.001304</td>\n",
       "      <td>0.152789</td>\n",
       "      <td>0.057403</td>\n",
       "      <td>0.331789</td>\n",
       "      <td>0.221359</td>\n",
       "      <td>0.137516</td>\n",
       "      <td>0.263858</td>\n",
       "      <td>0.467190</td>\n",
       "      <td>-0.201460</td>\n",
       "      <td>0.201460</td>\n",
       "    </tr>\n",
       "    <tr>\n",
       "      <th>BloodPressure</th>\n",
       "      <td>0.141466</td>\n",
       "      <td>0.152789</td>\n",
       "      <td>1.001304</td>\n",
       "      <td>0.207641</td>\n",
       "      <td>0.089049</td>\n",
       "      <td>0.282173</td>\n",
       "      <td>0.041319</td>\n",
       "      <td>0.239840</td>\n",
       "      <td>0.065153</td>\n",
       "      <td>-0.207132</td>\n",
       "      <td>0.207132</td>\n",
       "    </tr>\n",
       "    <tr>\n",
       "      <th>SkinThickness</th>\n",
       "      <td>-0.081778</td>\n",
       "      <td>0.057403</td>\n",
       "      <td>0.207641</td>\n",
       "      <td>1.001304</td>\n",
       "      <td>0.437352</td>\n",
       "      <td>0.393085</td>\n",
       "      <td>0.184167</td>\n",
       "      <td>-0.114119</td>\n",
       "      <td>0.074850</td>\n",
       "      <td>-0.342788</td>\n",
       "      <td>0.342788</td>\n",
       "    </tr>\n",
       "    <tr>\n",
       "      <th>Insulin</th>\n",
       "      <td>-0.073630</td>\n",
       "      <td>0.331789</td>\n",
       "      <td>0.089049</td>\n",
       "      <td>0.437352</td>\n",
       "      <td>1.001304</td>\n",
       "      <td>0.198117</td>\n",
       "      <td>0.185312</td>\n",
       "      <td>-0.042218</td>\n",
       "      <td>0.130718</td>\n",
       "      <td>-0.202259</td>\n",
       "      <td>0.202259</td>\n",
       "    </tr>\n",
       "    <tr>\n",
       "      <th>BMI</th>\n",
       "      <td>0.017706</td>\n",
       "      <td>0.221359</td>\n",
       "      <td>0.282173</td>\n",
       "      <td>0.393085</td>\n",
       "      <td>0.198117</td>\n",
       "      <td>1.001304</td>\n",
       "      <td>0.140830</td>\n",
       "      <td>0.036289</td>\n",
       "      <td>0.293076</td>\n",
       "      <td>-0.733287</td>\n",
       "      <td>0.733287</td>\n",
       "    </tr>\n",
       "    <tr>\n",
       "      <th>DiabetesPedigreeFunction</th>\n",
       "      <td>-0.033566</td>\n",
       "      <td>0.137516</td>\n",
       "      <td>0.041319</td>\n",
       "      <td>0.184167</td>\n",
       "      <td>0.185312</td>\n",
       "      <td>0.140830</td>\n",
       "      <td>1.001304</td>\n",
       "      <td>0.033605</td>\n",
       "      <td>0.174071</td>\n",
       "      <td>-0.095199</td>\n",
       "      <td>0.095199</td>\n",
       "    </tr>\n",
       "    <tr>\n",
       "      <th>Age</th>\n",
       "      <td>0.545051</td>\n",
       "      <td>0.263858</td>\n",
       "      <td>0.239840</td>\n",
       "      <td>-0.114119</td>\n",
       "      <td>-0.042218</td>\n",
       "      <td>0.036289</td>\n",
       "      <td>0.033605</td>\n",
       "      <td>1.001304</td>\n",
       "      <td>0.238667</td>\n",
       "      <td>-0.058104</td>\n",
       "      <td>0.058104</td>\n",
       "    </tr>\n",
       "    <tr>\n",
       "      <th>Outcome</th>\n",
       "      <td>0.222187</td>\n",
       "      <td>0.467190</td>\n",
       "      <td>0.065153</td>\n",
       "      <td>0.074850</td>\n",
       "      <td>0.130718</td>\n",
       "      <td>0.293076</td>\n",
       "      <td>0.174071</td>\n",
       "      <td>0.238667</td>\n",
       "      <td>1.001304</td>\n",
       "      <td>-0.295135</td>\n",
       "      <td>0.295135</td>\n",
       "    </tr>\n",
       "    <tr>\n",
       "      <th>BMI Labels_Healthy</th>\n",
       "      <td>-0.049948</td>\n",
       "      <td>-0.201460</td>\n",
       "      <td>-0.207132</td>\n",
       "      <td>-0.342788</td>\n",
       "      <td>-0.202259</td>\n",
       "      <td>-0.733287</td>\n",
       "      <td>-0.095199</td>\n",
       "      <td>-0.058104</td>\n",
       "      <td>-0.295135</td>\n",
       "      <td>1.001304</td>\n",
       "      <td>-1.001304</td>\n",
       "    </tr>\n",
       "    <tr>\n",
       "      <th>BMI Labels_Obese</th>\n",
       "      <td>0.049948</td>\n",
       "      <td>0.201460</td>\n",
       "      <td>0.207132</td>\n",
       "      <td>0.342788</td>\n",
       "      <td>0.202259</td>\n",
       "      <td>0.733287</td>\n",
       "      <td>0.095199</td>\n",
       "      <td>0.058104</td>\n",
       "      <td>0.295135</td>\n",
       "      <td>-1.001304</td>\n",
       "      <td>1.001304</td>\n",
       "    </tr>\n",
       "  </tbody>\n",
       "</table>\n",
       "</div>"
      ],
      "text/plain": [
       "                          Pregnancies   Glucose  BloodPressure  SkinThickness  \\\n",
       "Pregnancies                  1.001304  0.129627       0.141466      -0.081778   \n",
       "Glucose                      0.129627  1.001304       0.152789       0.057403   \n",
       "BloodPressure                0.141466  0.152789       1.001304       0.207641   \n",
       "SkinThickness               -0.081778  0.057403       0.207641       1.001304   \n",
       "Insulin                     -0.073630  0.331789       0.089049       0.437352   \n",
       "BMI                          0.017706  0.221359       0.282173       0.393085   \n",
       "DiabetesPedigreeFunction    -0.033566  0.137516       0.041319       0.184167   \n",
       "Age                          0.545051  0.263858       0.239840      -0.114119   \n",
       "Outcome                      0.222187  0.467190       0.065153       0.074850   \n",
       "BMI Labels_Healthy          -0.049948 -0.201460      -0.207132      -0.342788   \n",
       "BMI Labels_Obese             0.049948  0.201460       0.207132       0.342788   \n",
       "\n",
       "                           Insulin       BMI  DiabetesPedigreeFunction  \\\n",
       "Pregnancies              -0.073630  0.017706                 -0.033566   \n",
       "Glucose                   0.331789  0.221359                  0.137516   \n",
       "BloodPressure             0.089049  0.282173                  0.041319   \n",
       "SkinThickness             0.437352  0.393085                  0.184167   \n",
       "Insulin                   1.001304  0.198117                  0.185312   \n",
       "BMI                       0.198117  1.001304                  0.140830   \n",
       "DiabetesPedigreeFunction  0.185312  0.140830                  1.001304   \n",
       "Age                      -0.042218  0.036289                  0.033605   \n",
       "Outcome                   0.130718  0.293076                  0.174071   \n",
       "BMI Labels_Healthy       -0.202259 -0.733287                 -0.095199   \n",
       "BMI Labels_Obese          0.202259  0.733287                  0.095199   \n",
       "\n",
       "                               Age   Outcome  BMI Labels_Healthy  \\\n",
       "Pregnancies               0.545051  0.222187           -0.049948   \n",
       "Glucose                   0.263858  0.467190           -0.201460   \n",
       "BloodPressure             0.239840  0.065153           -0.207132   \n",
       "SkinThickness            -0.114119  0.074850           -0.342788   \n",
       "Insulin                  -0.042218  0.130718           -0.202259   \n",
       "BMI                       0.036289  0.293076           -0.733287   \n",
       "DiabetesPedigreeFunction  0.033605  0.174071           -0.095199   \n",
       "Age                       1.001304  0.238667           -0.058104   \n",
       "Outcome                   0.238667  1.001304           -0.295135   \n",
       "BMI Labels_Healthy       -0.058104 -0.295135            1.001304   \n",
       "BMI Labels_Obese          0.058104  0.295135           -1.001304   \n",
       "\n",
       "                          BMI Labels_Obese  \n",
       "Pregnancies                       0.049948  \n",
       "Glucose                           0.201460  \n",
       "BloodPressure                     0.207132  \n",
       "SkinThickness                     0.342788  \n",
       "Insulin                           0.202259  \n",
       "BMI                               0.733287  \n",
       "DiabetesPedigreeFunction          0.095199  \n",
       "Age                               0.058104  \n",
       "Outcome                           0.295135  \n",
       "BMI Labels_Healthy               -1.001304  \n",
       "BMI Labels_Obese                  1.001304  "
      ]
     },
     "execution_count": 46,
     "metadata": {},
     "output_type": "execute_result"
    }
   ],
   "source": [
    "cov_matrix"
   ]
  },
  {
   "cell_type": "code",
   "execution_count": 47,
   "metadata": {},
   "outputs": [],
   "source": [
    "eig_values,eig_vectors=np.linalg.eig(cov_matrix)   #numpy.linalg.eigvals(a)- helps to Compute the eigenvalues and right eigenvectors of a square array."
   ]
  },
  {
   "cell_type": "code",
   "execution_count": 48,
   "metadata": {},
   "outputs": [
    {
     "data": {
      "text/plain": [
       "array([ 3.41133868e+00,  1.84989517e+00,  1.33973741e+00,  1.05967883e+00,\n",
       "        8.77242480e-01,  7.64186466e-01,  5.78783332e-01,  4.23016835e-01,\n",
       "        3.93523133e-01,  3.16939250e-01, -1.18661820e-33])"
      ]
     },
     "execution_count": 48,
     "metadata": {},
     "output_type": "execute_result"
    }
   ],
   "source": [
    "eig_values"
   ]
  },
  {
   "cell_type": "code",
   "execution_count": 49,
   "metadata": {},
   "outputs": [
    {
     "data": {
      "text/plain": [
       "array([[-7.92258136e-02, -5.51541408e-01, -1.45840950e-01,\n",
       "        -1.69478687e-01,  8.58312570e-02,  5.02058264e-01,\n",
       "         1.17797569e-01,  4.86805451e-01, -3.59504190e-01,\n",
       "        -2.03868882e-03, -4.28219846e-22],\n",
       "       [-2.48988711e-01, -2.88752180e-01,  4.08168275e-01,\n",
       "         2.35289701e-01, -3.57017415e-01, -3.07308088e-01,\n",
       "        -2.25668231e-01, -1.42230052e-01, -5.60482545e-01,\n",
       "         1.59587906e-01, -9.17950048e-18],\n",
       "       [-2.07594701e-01, -1.46190310e-01, -7.64485223e-02,\n",
       "        -6.63990808e-01, -2.74314167e-02, -6.23025204e-01,\n",
       "         1.06014695e-01,  2.53672186e-01,  1.15080541e-01,\n",
       "         1.05164402e-01, -6.99594116e-17],\n",
       "       [-2.84785894e-01,  2.88077649e-01,  2.22669060e-01,\n",
       "        -4.05902741e-01, -6.87791107e-03,  3.35152841e-01,\n",
       "         4.77055881e-01, -4.24662031e-01, -2.31728306e-01,\n",
       "         2.18121120e-01, -9.11355001e-18],\n",
       "       [-2.31200841e-01,  1.44659167e-01,  5.46410817e-01,\n",
       "        -1.89027909e-01, -3.41734942e-01,  3.09744537e-01,\n",
       "        -3.05956615e-01,  3.20675973e-01,  3.82495795e-01,\n",
       "        -1.89350347e-01,  7.39085587e-18],\n",
       "       [-4.44958251e-01,  1.22015904e-01, -1.93981811e-01,\n",
       "         2.57968745e-02,  5.52818392e-02, -8.90042361e-02,\n",
       "         4.32324028e-02, -7.46638315e-02, -2.15949803e-01,\n",
       "        -8.26906265e-01, -8.21115695e-17],\n",
       "       [-1.40928411e-01,  2.52287445e-02,  4.37760242e-01,\n",
       "         3.40245903e-02,  8.58436424e-01, -8.50027925e-02,\n",
       "        -1.73967009e-01,  8.51598529e-02, -5.69628566e-02,\n",
       "         4.25550880e-02, -2.59908028e-17],\n",
       "       [-1.06933030e-01, -5.92342184e-01, -5.37183788e-02,\n",
       "        -1.92978492e-01,  8.01059043e-02,  1.39236315e-01,\n",
       "        -2.75948944e-01, -6.07069994e-01,  3.46676778e-01,\n",
       "        -8.30626829e-02,  2.13869913e-17],\n",
       "       [-2.73613636e-01, -2.99703663e-01,  2.01658960e-01,\n",
       "         4.41114798e-01, -1.85030497e-02, -1.12673314e-01,\n",
       "         6.48212657e-01,  8.72114861e-02,  3.99044997e-01,\n",
       "         2.15661985e-03, -1.73709841e-17],\n",
       "       [ 4.74303564e-01, -1.24341712e-01,  3.04403874e-01,\n",
       "        -1.42998667e-01, -2.07425575e-02, -7.01443955e-02,\n",
       "         1.92750712e-01, -5.61420473e-02, -8.38769912e-02,\n",
       "        -3.06225937e-01,  7.07106781e-01],\n",
       "       [-4.74303564e-01,  1.24341712e-01, -3.04403874e-01,\n",
       "         1.42998667e-01,  2.07425575e-02,  7.01443955e-02,\n",
       "        -1.92750712e-01,  5.61420473e-02,  8.38769912e-02,\n",
       "         3.06225937e-01,  7.07106781e-01]])"
      ]
     },
     "execution_count": 49,
     "metadata": {},
     "output_type": "execute_result"
    }
   ],
   "source": [
    "eig_vectors  #eigen vectors tells the direction in which the maximum variance in the data occurs"
   ]
  },
  {
   "cell_type": "code",
   "execution_count": 50,
   "metadata": {},
   "outputs": [
    {
     "data": {
      "text/html": [
       "<div>\n",
       "<style scoped>\n",
       "    .dataframe tbody tr th:only-of-type {\n",
       "        vertical-align: middle;\n",
       "    }\n",
       "\n",
       "    .dataframe tbody tr th {\n",
       "        vertical-align: top;\n",
       "    }\n",
       "\n",
       "    .dataframe thead th {\n",
       "        text-align: right;\n",
       "    }\n",
       "</style>\n",
       "<table border=\"1\" class=\"dataframe\">\n",
       "  <thead>\n",
       "    <tr style=\"text-align: right;\">\n",
       "      <th></th>\n",
       "      <th>0</th>\n",
       "      <th>1</th>\n",
       "      <th>2</th>\n",
       "      <th>3</th>\n",
       "      <th>4</th>\n",
       "      <th>5</th>\n",
       "      <th>6</th>\n",
       "      <th>7</th>\n",
       "      <th>8</th>\n",
       "      <th>9</th>\n",
       "      <th>10</th>\n",
       "    </tr>\n",
       "  </thead>\n",
       "  <tbody>\n",
       "    <tr>\n",
       "      <th>0</th>\n",
       "      <td>-0.079226</td>\n",
       "      <td>-0.551541</td>\n",
       "      <td>-0.145841</td>\n",
       "      <td>-0.169479</td>\n",
       "      <td>0.085831</td>\n",
       "      <td>0.502058</td>\n",
       "      <td>0.117798</td>\n",
       "      <td>0.486805</td>\n",
       "      <td>-0.359504</td>\n",
       "      <td>-0.002039</td>\n",
       "      <td>-4.282198e-22</td>\n",
       "    </tr>\n",
       "    <tr>\n",
       "      <th>1</th>\n",
       "      <td>-0.248989</td>\n",
       "      <td>-0.288752</td>\n",
       "      <td>0.408168</td>\n",
       "      <td>0.235290</td>\n",
       "      <td>-0.357017</td>\n",
       "      <td>-0.307308</td>\n",
       "      <td>-0.225668</td>\n",
       "      <td>-0.142230</td>\n",
       "      <td>-0.560483</td>\n",
       "      <td>0.159588</td>\n",
       "      <td>-9.179500e-18</td>\n",
       "    </tr>\n",
       "    <tr>\n",
       "      <th>2</th>\n",
       "      <td>-0.207595</td>\n",
       "      <td>-0.146190</td>\n",
       "      <td>-0.076449</td>\n",
       "      <td>-0.663991</td>\n",
       "      <td>-0.027431</td>\n",
       "      <td>-0.623025</td>\n",
       "      <td>0.106015</td>\n",
       "      <td>0.253672</td>\n",
       "      <td>0.115081</td>\n",
       "      <td>0.105164</td>\n",
       "      <td>-6.995941e-17</td>\n",
       "    </tr>\n",
       "    <tr>\n",
       "      <th>3</th>\n",
       "      <td>-0.284786</td>\n",
       "      <td>0.288078</td>\n",
       "      <td>0.222669</td>\n",
       "      <td>-0.405903</td>\n",
       "      <td>-0.006878</td>\n",
       "      <td>0.335153</td>\n",
       "      <td>0.477056</td>\n",
       "      <td>-0.424662</td>\n",
       "      <td>-0.231728</td>\n",
       "      <td>0.218121</td>\n",
       "      <td>-9.113550e-18</td>\n",
       "    </tr>\n",
       "    <tr>\n",
       "      <th>4</th>\n",
       "      <td>-0.231201</td>\n",
       "      <td>0.144659</td>\n",
       "      <td>0.546411</td>\n",
       "      <td>-0.189028</td>\n",
       "      <td>-0.341735</td>\n",
       "      <td>0.309745</td>\n",
       "      <td>-0.305957</td>\n",
       "      <td>0.320676</td>\n",
       "      <td>0.382496</td>\n",
       "      <td>-0.189350</td>\n",
       "      <td>7.390856e-18</td>\n",
       "    </tr>\n",
       "    <tr>\n",
       "      <th>5</th>\n",
       "      <td>-0.444958</td>\n",
       "      <td>0.122016</td>\n",
       "      <td>-0.193982</td>\n",
       "      <td>0.025797</td>\n",
       "      <td>0.055282</td>\n",
       "      <td>-0.089004</td>\n",
       "      <td>0.043232</td>\n",
       "      <td>-0.074664</td>\n",
       "      <td>-0.215950</td>\n",
       "      <td>-0.826906</td>\n",
       "      <td>-8.211157e-17</td>\n",
       "    </tr>\n",
       "    <tr>\n",
       "      <th>6</th>\n",
       "      <td>-0.140928</td>\n",
       "      <td>0.025229</td>\n",
       "      <td>0.437760</td>\n",
       "      <td>0.034025</td>\n",
       "      <td>0.858436</td>\n",
       "      <td>-0.085003</td>\n",
       "      <td>-0.173967</td>\n",
       "      <td>0.085160</td>\n",
       "      <td>-0.056963</td>\n",
       "      <td>0.042555</td>\n",
       "      <td>-2.599080e-17</td>\n",
       "    </tr>\n",
       "    <tr>\n",
       "      <th>7</th>\n",
       "      <td>-0.106933</td>\n",
       "      <td>-0.592342</td>\n",
       "      <td>-0.053718</td>\n",
       "      <td>-0.192978</td>\n",
       "      <td>0.080106</td>\n",
       "      <td>0.139236</td>\n",
       "      <td>-0.275949</td>\n",
       "      <td>-0.607070</td>\n",
       "      <td>0.346677</td>\n",
       "      <td>-0.083063</td>\n",
       "      <td>2.138699e-17</td>\n",
       "    </tr>\n",
       "    <tr>\n",
       "      <th>8</th>\n",
       "      <td>-0.273614</td>\n",
       "      <td>-0.299704</td>\n",
       "      <td>0.201659</td>\n",
       "      <td>0.441115</td>\n",
       "      <td>-0.018503</td>\n",
       "      <td>-0.112673</td>\n",
       "      <td>0.648213</td>\n",
       "      <td>0.087211</td>\n",
       "      <td>0.399045</td>\n",
       "      <td>0.002157</td>\n",
       "      <td>-1.737098e-17</td>\n",
       "    </tr>\n",
       "    <tr>\n",
       "      <th>9</th>\n",
       "      <td>0.474304</td>\n",
       "      <td>-0.124342</td>\n",
       "      <td>0.304404</td>\n",
       "      <td>-0.142999</td>\n",
       "      <td>-0.020743</td>\n",
       "      <td>-0.070144</td>\n",
       "      <td>0.192751</td>\n",
       "      <td>-0.056142</td>\n",
       "      <td>-0.083877</td>\n",
       "      <td>-0.306226</td>\n",
       "      <td>7.071068e-01</td>\n",
       "    </tr>\n",
       "    <tr>\n",
       "      <th>10</th>\n",
       "      <td>-0.474304</td>\n",
       "      <td>0.124342</td>\n",
       "      <td>-0.304404</td>\n",
       "      <td>0.142999</td>\n",
       "      <td>0.020743</td>\n",
       "      <td>0.070144</td>\n",
       "      <td>-0.192751</td>\n",
       "      <td>0.056142</td>\n",
       "      <td>0.083877</td>\n",
       "      <td>0.306226</td>\n",
       "      <td>7.071068e-01</td>\n",
       "    </tr>\n",
       "  </tbody>\n",
       "</table>\n",
       "</div>"
      ],
      "text/plain": [
       "          0         1         2         3         4         5         6   \\\n",
       "0  -0.079226 -0.551541 -0.145841 -0.169479  0.085831  0.502058  0.117798   \n",
       "1  -0.248989 -0.288752  0.408168  0.235290 -0.357017 -0.307308 -0.225668   \n",
       "2  -0.207595 -0.146190 -0.076449 -0.663991 -0.027431 -0.623025  0.106015   \n",
       "3  -0.284786  0.288078  0.222669 -0.405903 -0.006878  0.335153  0.477056   \n",
       "4  -0.231201  0.144659  0.546411 -0.189028 -0.341735  0.309745 -0.305957   \n",
       "5  -0.444958  0.122016 -0.193982  0.025797  0.055282 -0.089004  0.043232   \n",
       "6  -0.140928  0.025229  0.437760  0.034025  0.858436 -0.085003 -0.173967   \n",
       "7  -0.106933 -0.592342 -0.053718 -0.192978  0.080106  0.139236 -0.275949   \n",
       "8  -0.273614 -0.299704  0.201659  0.441115 -0.018503 -0.112673  0.648213   \n",
       "9   0.474304 -0.124342  0.304404 -0.142999 -0.020743 -0.070144  0.192751   \n",
       "10 -0.474304  0.124342 -0.304404  0.142999  0.020743  0.070144 -0.192751   \n",
       "\n",
       "          7         8         9             10  \n",
       "0   0.486805 -0.359504 -0.002039 -4.282198e-22  \n",
       "1  -0.142230 -0.560483  0.159588 -9.179500e-18  \n",
       "2   0.253672  0.115081  0.105164 -6.995941e-17  \n",
       "3  -0.424662 -0.231728  0.218121 -9.113550e-18  \n",
       "4   0.320676  0.382496 -0.189350  7.390856e-18  \n",
       "5  -0.074664 -0.215950 -0.826906 -8.211157e-17  \n",
       "6   0.085160 -0.056963  0.042555 -2.599080e-17  \n",
       "7  -0.607070  0.346677 -0.083063  2.138699e-17  \n",
       "8   0.087211  0.399045  0.002157 -1.737098e-17  \n",
       "9  -0.056142 -0.083877 -0.306226  7.071068e-01  \n",
       "10  0.056142  0.083877  0.306226  7.071068e-01  "
      ]
     },
     "execution_count": 50,
     "metadata": {},
     "output_type": "execute_result"
    }
   ],
   "source": [
    "pd.DataFrame(eig_vectors )"
   ]
  },
  {
   "cell_type": "code",
   "execution_count": 159,
   "metadata": {},
   "outputs": [],
   "source": [
    "#through scikit learn\n",
    "from sklearn.decomposition import PCA\n",
    "pc=PCA(n_components=9)"
   ]
  },
  {
   "cell_type": "code",
   "execution_count": 160,
   "metadata": {},
   "outputs": [],
   "source": [
    "train=pc.fit_transform(scaled_diab)  #it is basically a training data\n",
    "                                    #this means we are fitting the data in pca"
   ]
  },
  {
   "cell_type": "code",
   "execution_count": 161,
   "metadata": {},
   "outputs": [
    {
     "data": {
      "text/plain": [
       "array([[-1.44230851,  1.3359427 , -0.04960945, ..., -0.83065824,\n",
       "         0.79465157,  0.70848144],\n",
       "       [ 1.94469486, -0.82339799,  0.01227738, ..., -0.4694225 ,\n",
       "         0.72738312, -0.14195662],\n",
       "       [ 1.82931873,  1.64798618,  1.21553493, ..., -0.9059271 ,\n",
       "        -1.22355852,  0.32207465],\n",
       "       ...,\n",
       "       [ 1.52763674,  0.16420281,  0.77985493, ..., -0.28819908,\n",
       "        -0.35687595, -0.16115661],\n",
       "       [-0.04466463,  0.56347929, -1.20778282, ...,  0.7240875 ,\n",
       "         1.22443101,  0.40723486],\n",
       "       [-0.39672782, -1.36900877, -1.2793497 , ..., -0.10728397,\n",
       "         0.22176928,  0.85405479]])"
      ]
     },
     "execution_count": 161,
     "metadata": {},
     "output_type": "execute_result"
    }
   ],
   "source": [
    "train"
   ]
  },
  {
   "cell_type": "code",
   "execution_count": 162,
   "metadata": {},
   "outputs": [],
   "source": [
    "dtrain=pd.DataFrame(train)"
   ]
  },
  {
   "cell_type": "code",
   "execution_count": 163,
   "metadata": {},
   "outputs": [
    {
     "data": {
      "text/html": [
       "<div>\n",
       "<style scoped>\n",
       "    .dataframe tbody tr th:only-of-type {\n",
       "        vertical-align: middle;\n",
       "    }\n",
       "\n",
       "    .dataframe tbody tr th {\n",
       "        vertical-align: top;\n",
       "    }\n",
       "\n",
       "    .dataframe thead th {\n",
       "        text-align: right;\n",
       "    }\n",
       "</style>\n",
       "<table border=\"1\" class=\"dataframe\">\n",
       "  <thead>\n",
       "    <tr style=\"text-align: right;\">\n",
       "      <th></th>\n",
       "      <th>0</th>\n",
       "      <th>1</th>\n",
       "      <th>2</th>\n",
       "      <th>3</th>\n",
       "      <th>4</th>\n",
       "      <th>5</th>\n",
       "      <th>6</th>\n",
       "      <th>7</th>\n",
       "      <th>8</th>\n",
       "    </tr>\n",
       "  </thead>\n",
       "  <tbody>\n",
       "    <tr>\n",
       "      <th>0</th>\n",
       "      <td>-1.442309</td>\n",
       "      <td>1.335943</td>\n",
       "      <td>-0.049609</td>\n",
       "      <td>0.261458</td>\n",
       "      <td>0.498745</td>\n",
       "      <td>0.211267</td>\n",
       "      <td>-0.830658</td>\n",
       "      <td>0.794652</td>\n",
       "      <td>0.708481</td>\n",
       "    </tr>\n",
       "    <tr>\n",
       "      <th>1</th>\n",
       "      <td>1.944695</td>\n",
       "      <td>-0.823398</td>\n",
       "      <td>0.012277</td>\n",
       "      <td>-1.063185</td>\n",
       "      <td>0.278716</td>\n",
       "      <td>0.182570</td>\n",
       "      <td>-0.469422</td>\n",
       "      <td>0.727383</td>\n",
       "      <td>-0.141957</td>\n",
       "    </tr>\n",
       "    <tr>\n",
       "      <th>2</th>\n",
       "      <td>1.829319</td>\n",
       "      <td>1.647986</td>\n",
       "      <td>1.215535</td>\n",
       "      <td>1.218344</td>\n",
       "      <td>-0.064786</td>\n",
       "      <td>-0.850187</td>\n",
       "      <td>-0.905927</td>\n",
       "      <td>-1.223559</td>\n",
       "      <td>0.322075</td>\n",
       "    </tr>\n",
       "    <tr>\n",
       "      <th>3</th>\n",
       "      <td>1.889605</td>\n",
       "      <td>-1.351189</td>\n",
       "      <td>0.096767</td>\n",
       "      <td>-1.012872</td>\n",
       "      <td>-0.585189</td>\n",
       "      <td>0.154789</td>\n",
       "      <td>-0.046434</td>\n",
       "      <td>-0.026320</td>\n",
       "      <td>-0.469335</td>\n",
       "    </tr>\n",
       "    <tr>\n",
       "      <th>4</th>\n",
       "      <td>-2.409168</td>\n",
       "      <td>-1.736827</td>\n",
       "      <td>2.470565</td>\n",
       "      <td>2.597825</td>\n",
       "      <td>4.046802</td>\n",
       "      <td>-0.164171</td>\n",
       "      <td>-0.095078</td>\n",
       "      <td>0.559725</td>\n",
       "      <td>-0.456004</td>\n",
       "    </tr>\n",
       "    <tr>\n",
       "      <th>5</th>\n",
       "      <td>2.286913</td>\n",
       "      <td>0.666016</td>\n",
       "      <td>-0.269038</td>\n",
       "      <td>-0.341162</td>\n",
       "      <td>-0.449885</td>\n",
       "      <td>-0.565513</td>\n",
       "      <td>0.017752</td>\n",
       "      <td>-0.609028</td>\n",
       "      <td>-0.248679</td>\n",
       "    </tr>\n",
       "    <tr>\n",
       "      <th>6</th>\n",
       "      <td>-0.330208</td>\n",
       "      <td>-1.337915</td>\n",
       "      <td>-1.187405</td>\n",
       "      <td>-0.021111</td>\n",
       "      <td>-0.144362</td>\n",
       "      <td>1.360531</td>\n",
       "      <td>0.279322</td>\n",
       "      <td>0.248085</td>\n",
       "      <td>0.444867</td>\n",
       "    </tr>\n",
       "    <tr>\n",
       "      <th>7</th>\n",
       "      <td>0.479426</td>\n",
       "      <td>0.349739</td>\n",
       "      <td>-2.167110</td>\n",
       "      <td>3.089985</td>\n",
       "      <td>-0.618694</td>\n",
       "      <td>2.225039</td>\n",
       "      <td>-0.354985</td>\n",
       "      <td>-0.833357</td>\n",
       "      <td>-0.422219</td>\n",
       "    </tr>\n",
       "    <tr>\n",
       "      <th>8</th>\n",
       "      <td>-2.686121</td>\n",
       "      <td>0.374060</td>\n",
       "      <td>2.987304</td>\n",
       "      <td>0.291631</td>\n",
       "      <td>-3.036652</td>\n",
       "      <td>0.811310</td>\n",
       "      <td>1.068384</td>\n",
       "      <td>1.414310</td>\n",
       "      <td>0.430546</td>\n",
       "    </tr>\n",
       "    <tr>\n",
       "      <th>9</th>\n",
       "      <td>3.278704</td>\n",
       "      <td>3.032899</td>\n",
       "      <td>0.681785</td>\n",
       "      <td>-1.066896</td>\n",
       "      <td>-0.387625</td>\n",
       "      <td>-0.338226</td>\n",
       "      <td>1.020607</td>\n",
       "      <td>0.185636</td>\n",
       "      <td>2.433326</td>\n",
       "    </tr>\n",
       "    <tr>\n",
       "      <th>10</th>\n",
       "      <td>-0.613706</td>\n",
       "      <td>0.421693</td>\n",
       "      <td>-1.826315</td>\n",
       "      <td>-0.380157</td>\n",
       "      <td>-0.287152</td>\n",
       "      <td>-1.139757</td>\n",
       "      <td>0.667836</td>\n",
       "      <td>-0.605790</td>\n",
       "      <td>-0.187934</td>\n",
       "    </tr>\n",
       "    <tr>\n",
       "      <th>11</th>\n",
       "      <td>-1.084738</td>\n",
       "      <td>1.885240</td>\n",
       "      <td>-0.733506</td>\n",
       "      <td>1.267692</td>\n",
       "      <td>-0.022661</td>\n",
       "      <td>-0.607001</td>\n",
       "      <td>-0.373861</td>\n",
       "      <td>-1.503455</td>\n",
       "      <td>-0.020649</td>\n",
       "    </tr>\n",
       "    <tr>\n",
       "      <th>12</th>\n",
       "      <td>1.209845</td>\n",
       "      <td>3.081891</td>\n",
       "      <td>1.759184</td>\n",
       "      <td>0.671587</td>\n",
       "      <td>2.695945</td>\n",
       "      <td>-0.527921</td>\n",
       "      <td>0.117092</td>\n",
       "      <td>-0.273281</td>\n",
       "      <td>-0.290545</td>\n",
       "    </tr>\n",
       "    <tr>\n",
       "      <th>13</th>\n",
       "      <td>-2.823665</td>\n",
       "      <td>0.239757</td>\n",
       "      <td>4.378770</td>\n",
       "      <td>1.317465</td>\n",
       "      <td>-3.319960</td>\n",
       "      <td>1.116019</td>\n",
       "      <td>3.535122</td>\n",
       "      <td>1.443575</td>\n",
       "      <td>-0.434714</td>\n",
       "    </tr>\n",
       "    <tr>\n",
       "      <th>14</th>\n",
       "      <td>0.912393</td>\n",
       "      <td>1.596716</td>\n",
       "      <td>2.198338</td>\n",
       "      <td>0.157473</td>\n",
       "      <td>-0.473961</td>\n",
       "      <td>-0.203078</td>\n",
       "      <td>-0.108255</td>\n",
       "      <td>0.612745</td>\n",
       "      <td>-0.155621</td>\n",
       "    </tr>\n",
       "    <tr>\n",
       "      <th>15</th>\n",
       "      <td>2.819331</td>\n",
       "      <td>0.000980</td>\n",
       "      <td>-0.467493</td>\n",
       "      <td>2.476218</td>\n",
       "      <td>0.357386</td>\n",
       "      <td>1.805465</td>\n",
       "      <td>-0.521044</td>\n",
       "      <td>-0.166969</td>\n",
       "      <td>-1.169875</td>\n",
       "    </tr>\n",
       "    <tr>\n",
       "      <th>16</th>\n",
       "      <td>-2.580430</td>\n",
       "      <td>-1.426317</td>\n",
       "      <td>0.521420</td>\n",
       "      <td>-0.944945</td>\n",
       "      <td>-0.130550</td>\n",
       "      <td>-0.031731</td>\n",
       "      <td>0.039590</td>\n",
       "      <td>0.629494</td>\n",
       "      <td>-0.745289</td>\n",
       "    </tr>\n",
       "    <tr>\n",
       "      <th>17</th>\n",
       "      <td>2.052861</td>\n",
       "      <td>0.974464</td>\n",
       "      <td>-0.424845</td>\n",
       "      <td>-0.415395</td>\n",
       "      <td>-0.121260</td>\n",
       "      <td>-0.205090</td>\n",
       "      <td>-0.015195</td>\n",
       "      <td>-0.903760</td>\n",
       "      <td>-0.714657</td>\n",
       "    </tr>\n",
       "    <tr>\n",
       "      <th>18</th>\n",
       "      <td>-1.099186</td>\n",
       "      <td>-1.520770</td>\n",
       "      <td>-1.170189</td>\n",
       "      <td>0.882921</td>\n",
       "      <td>-0.567565</td>\n",
       "      <td>1.368357</td>\n",
       "      <td>-0.669520</td>\n",
       "      <td>1.223382</td>\n",
       "      <td>-0.794042</td>\n",
       "    </tr>\n",
       "    <tr>\n",
       "      <th>19</th>\n",
       "      <td>-1.126562</td>\n",
       "      <td>-0.875475</td>\n",
       "      <td>-0.291956</td>\n",
       "      <td>-0.025448</td>\n",
       "      <td>0.136651</td>\n",
       "      <td>-0.094669</td>\n",
       "      <td>0.147271</td>\n",
       "      <td>0.552266</td>\n",
       "      <td>0.316280</td>\n",
       "    </tr>\n",
       "    <tr>\n",
       "      <th>20</th>\n",
       "      <td>-2.268132</td>\n",
       "      <td>-0.893393</td>\n",
       "      <td>0.861539</td>\n",
       "      <td>-0.752792</td>\n",
       "      <td>0.138822</td>\n",
       "      <td>0.039084</td>\n",
       "      <td>0.256511</td>\n",
       "      <td>-0.321052</td>\n",
       "      <td>-0.045060</td>\n",
       "    </tr>\n",
       "    <tr>\n",
       "      <th>21</th>\n",
       "      <td>-0.588517</td>\n",
       "      <td>2.034109</td>\n",
       "      <td>-1.604145</td>\n",
       "      <td>-0.063257</td>\n",
       "      <td>0.527802</td>\n",
       "      <td>-0.056594</td>\n",
       "      <td>0.968973</td>\n",
       "      <td>-0.014235</td>\n",
       "      <td>-0.174007</td>\n",
       "    </tr>\n",
       "    <tr>\n",
       "      <th>22</th>\n",
       "      <td>-1.530179</td>\n",
       "      <td>2.157036</td>\n",
       "      <td>-0.399100</td>\n",
       "      <td>0.975074</td>\n",
       "      <td>-0.565835</td>\n",
       "      <td>-1.784578</td>\n",
       "      <td>-0.496562</td>\n",
       "      <td>-0.759612</td>\n",
       "      <td>-0.041087</td>\n",
       "    </tr>\n",
       "    <tr>\n",
       "      <th>23</th>\n",
       "      <td>1.223163</td>\n",
       "      <td>0.852091</td>\n",
       "      <td>0.327639</td>\n",
       "      <td>-1.430978</td>\n",
       "      <td>-0.124370</td>\n",
       "      <td>0.714760</td>\n",
       "      <td>-1.384286</td>\n",
       "      <td>-0.940852</td>\n",
       "      <td>-0.064481</td>\n",
       "    </tr>\n",
       "    <tr>\n",
       "      <th>24</th>\n",
       "      <td>-2.033636</td>\n",
       "      <td>2.410146</td>\n",
       "      <td>0.051237</td>\n",
       "      <td>-0.896936</td>\n",
       "      <td>-0.622421</td>\n",
       "      <td>0.835699</td>\n",
       "      <td>-0.065225</td>\n",
       "      <td>-0.291487</td>\n",
       "      <td>0.161967</td>\n",
       "    </tr>\n",
       "    <tr>\n",
       "      <th>25</th>\n",
       "      <td>-1.006101</td>\n",
       "      <td>1.429763</td>\n",
       "      <td>-0.520616</td>\n",
       "      <td>-0.079030</td>\n",
       "      <td>-0.627500</td>\n",
       "      <td>1.302604</td>\n",
       "      <td>0.103624</td>\n",
       "      <td>-0.497226</td>\n",
       "      <td>0.538271</td>\n",
       "    </tr>\n",
       "    <tr>\n",
       "      <th>26</th>\n",
       "      <td>-0.946255</td>\n",
       "      <td>1.742445</td>\n",
       "      <td>-1.312316</td>\n",
       "      <td>0.745856</td>\n",
       "      <td>-0.466343</td>\n",
       "      <td>-0.672872</td>\n",
       "      <td>0.051713</td>\n",
       "      <td>-0.310108</td>\n",
       "      <td>-0.361493</td>\n",
       "    </tr>\n",
       "    <tr>\n",
       "      <th>27</th>\n",
       "      <td>2.048107</td>\n",
       "      <td>-1.193781</td>\n",
       "      <td>0.841120</td>\n",
       "      <td>-0.469765</td>\n",
       "      <td>-0.065185</td>\n",
       "      <td>-0.113620</td>\n",
       "      <td>0.557377</td>\n",
       "      <td>-0.209783</td>\n",
       "      <td>-0.066301</td>\n",
       "    </tr>\n",
       "    <tr>\n",
       "      <th>28</th>\n",
       "      <td>1.276260</td>\n",
       "      <td>3.491898</td>\n",
       "      <td>1.220046</td>\n",
       "      <td>-0.774404</td>\n",
       "      <td>-0.644551</td>\n",
       "      <td>1.070912</td>\n",
       "      <td>-0.209036</td>\n",
       "      <td>-0.319244</td>\n",
       "      <td>0.187362</td>\n",
       "    </tr>\n",
       "    <tr>\n",
       "      <th>29</th>\n",
       "      <td>-0.581225</td>\n",
       "      <td>1.093937</td>\n",
       "      <td>-1.422757</td>\n",
       "      <td>-0.182491</td>\n",
       "      <td>0.040712</td>\n",
       "      <td>-1.026761</td>\n",
       "      <td>0.766207</td>\n",
       "      <td>-0.334027</td>\n",
       "      <td>0.176212</td>\n",
       "    </tr>\n",
       "    <tr>\n",
       "      <th>...</th>\n",
       "      <td>...</td>\n",
       "      <td>...</td>\n",
       "      <td>...</td>\n",
       "      <td>...</td>\n",
       "      <td>...</td>\n",
       "      <td>...</td>\n",
       "      <td>...</td>\n",
       "      <td>...</td>\n",
       "      <td>...</td>\n",
       "    </tr>\n",
       "    <tr>\n",
       "      <th>738</th>\n",
       "      <td>-0.811476</td>\n",
       "      <td>-1.435605</td>\n",
       "      <td>-0.653272</td>\n",
       "      <td>0.418674</td>\n",
       "      <td>-0.132854</td>\n",
       "      <td>0.243425</td>\n",
       "      <td>0.801313</td>\n",
       "      <td>-0.398157</td>\n",
       "      <td>-0.244358</td>\n",
       "    </tr>\n",
       "    <tr>\n",
       "      <th>739</th>\n",
       "      <td>-0.542703</td>\n",
       "      <td>0.225089</td>\n",
       "      <td>-1.795548</td>\n",
       "      <td>0.312545</td>\n",
       "      <td>0.036621</td>\n",
       "      <td>-0.957487</td>\n",
       "      <td>0.834824</td>\n",
       "      <td>0.829901</td>\n",
       "      <td>-0.595741</td>\n",
       "    </tr>\n",
       "    <tr>\n",
       "      <th>740</th>\n",
       "      <td>-2.343355</td>\n",
       "      <td>1.691996</td>\n",
       "      <td>0.341504</td>\n",
       "      <td>-0.354391</td>\n",
       "      <td>0.986419</td>\n",
       "      <td>1.341783</td>\n",
       "      <td>-0.091320</td>\n",
       "      <td>-0.372869</td>\n",
       "      <td>-0.489511</td>\n",
       "    </tr>\n",
       "    <tr>\n",
       "      <th>741</th>\n",
       "      <td>-0.250497</td>\n",
       "      <td>-1.071685</td>\n",
       "      <td>-0.863931</td>\n",
       "      <td>0.940870</td>\n",
       "      <td>-0.125603</td>\n",
       "      <td>0.843287</td>\n",
       "      <td>0.369639</td>\n",
       "      <td>0.011945</td>\n",
       "      <td>0.399787</td>\n",
       "    </tr>\n",
       "    <tr>\n",
       "      <th>742</th>\n",
       "      <td>1.845656</td>\n",
       "      <td>-1.202655</td>\n",
       "      <td>0.419395</td>\n",
       "      <td>-0.286651</td>\n",
       "      <td>-0.796505</td>\n",
       "      <td>0.010761</td>\n",
       "      <td>-0.097306</td>\n",
       "      <td>-0.053040</td>\n",
       "      <td>-0.558863</td>\n",
       "    </tr>\n",
       "    <tr>\n",
       "      <th>743</th>\n",
       "      <td>-0.946646</td>\n",
       "      <td>2.343272</td>\n",
       "      <td>-0.563085</td>\n",
       "      <td>0.317634</td>\n",
       "      <td>0.885600</td>\n",
       "      <td>-0.852269</td>\n",
       "      <td>0.539399</td>\n",
       "      <td>-0.791777</td>\n",
       "      <td>0.450044</td>\n",
       "    </tr>\n",
       "    <tr>\n",
       "      <th>744</th>\n",
       "      <td>-2.668800</td>\n",
       "      <td>1.871576</td>\n",
       "      <td>1.220319</td>\n",
       "      <td>0.027033</td>\n",
       "      <td>1.585081</td>\n",
       "      <td>0.769514</td>\n",
       "      <td>-0.583521</td>\n",
       "      <td>-1.538540</td>\n",
       "      <td>0.028500</td>\n",
       "    </tr>\n",
       "    <tr>\n",
       "      <th>745</th>\n",
       "      <td>0.815858</td>\n",
       "      <td>2.075310</td>\n",
       "      <td>0.935792</td>\n",
       "      <td>-1.599136</td>\n",
       "      <td>0.549921</td>\n",
       "      <td>1.546766</td>\n",
       "      <td>-0.360066</td>\n",
       "      <td>-0.583446</td>\n",
       "      <td>-0.536983</td>\n",
       "    </tr>\n",
       "    <tr>\n",
       "      <th>746</th>\n",
       "      <td>-2.401040</td>\n",
       "      <td>-0.706572</td>\n",
       "      <td>-0.699572</td>\n",
       "      <td>-0.925619</td>\n",
       "      <td>-0.243845</td>\n",
       "      <td>-1.235936</td>\n",
       "      <td>-1.448718</td>\n",
       "      <td>0.155413</td>\n",
       "      <td>-0.611498</td>\n",
       "    </tr>\n",
       "    <tr>\n",
       "      <th>747</th>\n",
       "      <td>-2.004806</td>\n",
       "      <td>-1.385058</td>\n",
       "      <td>-0.256927</td>\n",
       "      <td>-0.442828</td>\n",
       "      <td>2.229371</td>\n",
       "      <td>0.099831</td>\n",
       "      <td>-0.151899</td>\n",
       "      <td>0.623894</td>\n",
       "      <td>-0.772265</td>\n",
       "    </tr>\n",
       "    <tr>\n",
       "      <th>748</th>\n",
       "      <td>-1.790651</td>\n",
       "      <td>0.265918</td>\n",
       "      <td>0.825628</td>\n",
       "      <td>0.987203</td>\n",
       "      <td>-1.324546</td>\n",
       "      <td>-0.646581</td>\n",
       "      <td>-0.124092</td>\n",
       "      <td>0.057459</td>\n",
       "      <td>0.164730</td>\n",
       "    </tr>\n",
       "    <tr>\n",
       "      <th>749</th>\n",
       "      <td>2.052051</td>\n",
       "      <td>2.169793</td>\n",
       "      <td>0.394629</td>\n",
       "      <td>0.692518</td>\n",
       "      <td>-0.983059</td>\n",
       "      <td>-0.495938</td>\n",
       "      <td>-0.461168</td>\n",
       "      <td>0.442035</td>\n",
       "      <td>-0.090402</td>\n",
       "    </tr>\n",
       "    <tr>\n",
       "      <th>750</th>\n",
       "      <td>-0.517647</td>\n",
       "      <td>-0.222506</td>\n",
       "      <td>-0.157345</td>\n",
       "      <td>1.506899</td>\n",
       "      <td>1.731871</td>\n",
       "      <td>-1.249370</td>\n",
       "      <td>0.379886</td>\n",
       "      <td>-1.189359</td>\n",
       "      <td>0.680372</td>\n",
       "    </tr>\n",
       "    <tr>\n",
       "      <th>751</th>\n",
       "      <td>-1.514608</td>\n",
       "      <td>-1.040460</td>\n",
       "      <td>-0.629269</td>\n",
       "      <td>-0.690686</td>\n",
       "      <td>-0.499587</td>\n",
       "      <td>-0.180796</td>\n",
       "      <td>-0.504613</td>\n",
       "      <td>0.417940</td>\n",
       "      <td>0.081748</td>\n",
       "    </tr>\n",
       "    <tr>\n",
       "      <th>752</th>\n",
       "      <td>2.031203</td>\n",
       "      <td>-0.560998</td>\n",
       "      <td>-0.001425</td>\n",
       "      <td>-0.605517</td>\n",
       "      <td>-0.347904</td>\n",
       "      <td>0.159538</td>\n",
       "      <td>-0.796077</td>\n",
       "      <td>-0.065747</td>\n",
       "      <td>-0.027939</td>\n",
       "    </tr>\n",
       "    <tr>\n",
       "      <th>753</th>\n",
       "      <td>-3.272249</td>\n",
       "      <td>-1.405625</td>\n",
       "      <td>2.298531</td>\n",
       "      <td>-0.515625</td>\n",
       "      <td>-2.649421</td>\n",
       "      <td>-0.274532</td>\n",
       "      <td>0.683634</td>\n",
       "      <td>-0.075700</td>\n",
       "      <td>-0.653849</td>\n",
       "    </tr>\n",
       "    <tr>\n",
       "      <th>754</th>\n",
       "      <td>-1.341743</td>\n",
       "      <td>1.628268</td>\n",
       "      <td>-0.268352</td>\n",
       "      <td>0.031605</td>\n",
       "      <td>-0.022011</td>\n",
       "      <td>0.230115</td>\n",
       "      <td>-0.886550</td>\n",
       "      <td>0.062085</td>\n",
       "      <td>0.866842</td>\n",
       "    </tr>\n",
       "    <tr>\n",
       "      <th>755</th>\n",
       "      <td>-1.992408</td>\n",
       "      <td>-0.533418</td>\n",
       "      <td>0.839810</td>\n",
       "      <td>-0.376172</td>\n",
       "      <td>1.373053</td>\n",
       "      <td>-0.650702</td>\n",
       "      <td>-0.002123</td>\n",
       "      <td>0.634664</td>\n",
       "      <td>0.413139</td>\n",
       "    </tr>\n",
       "    <tr>\n",
       "      <th>756</th>\n",
       "      <td>-1.442460</td>\n",
       "      <td>1.007693</td>\n",
       "      <td>-0.381099</td>\n",
       "      <td>-0.919075</td>\n",
       "      <td>0.049947</td>\n",
       "      <td>0.194343</td>\n",
       "      <td>-0.896509</td>\n",
       "      <td>-0.046353</td>\n",
       "      <td>1.047541</td>\n",
       "    </tr>\n",
       "    <tr>\n",
       "      <th>757</th>\n",
       "      <td>-0.509008</td>\n",
       "      <td>0.762853</td>\n",
       "      <td>-1.430546</td>\n",
       "      <td>0.637807</td>\n",
       "      <td>-0.306962</td>\n",
       "      <td>-1.192073</td>\n",
       "      <td>0.774043</td>\n",
       "      <td>1.603409</td>\n",
       "      <td>-0.240036</td>\n",
       "    </tr>\n",
       "    <tr>\n",
       "      <th>758</th>\n",
       "      <td>-0.329936</td>\n",
       "      <td>-0.570171</td>\n",
       "      <td>-1.914458</td>\n",
       "      <td>0.189627</td>\n",
       "      <td>-0.361136</td>\n",
       "      <td>-1.141040</td>\n",
       "      <td>0.634075</td>\n",
       "      <td>-0.156130</td>\n",
       "      <td>-0.253894</td>\n",
       "    </tr>\n",
       "    <tr>\n",
       "      <th>759</th>\n",
       "      <td>-1.334122</td>\n",
       "      <td>3.390346</td>\n",
       "      <td>-0.432573</td>\n",
       "      <td>0.723549</td>\n",
       "      <td>-0.823671</td>\n",
       "      <td>-1.583142</td>\n",
       "      <td>0.041987</td>\n",
       "      <td>1.016630</td>\n",
       "      <td>0.191128</td>\n",
       "    </tr>\n",
       "    <tr>\n",
       "      <th>760</th>\n",
       "      <td>1.806777</td>\n",
       "      <td>-1.274887</td>\n",
       "      <td>0.492941</td>\n",
       "      <td>-0.344084</td>\n",
       "      <td>1.192295</td>\n",
       "      <td>0.213162</td>\n",
       "      <td>-0.519600</td>\n",
       "      <td>-0.106397</td>\n",
       "      <td>-0.309299</td>\n",
       "    </tr>\n",
       "    <tr>\n",
       "      <th>761</th>\n",
       "      <td>-2.058162</td>\n",
       "      <td>1.720887</td>\n",
       "      <td>-0.442113</td>\n",
       "      <td>0.393422</td>\n",
       "      <td>-0.244475</td>\n",
       "      <td>0.116914</td>\n",
       "      <td>-1.498240</td>\n",
       "      <td>-0.292432</td>\n",
       "      <td>-0.295769</td>\n",
       "    </tr>\n",
       "    <tr>\n",
       "      <th>762</th>\n",
       "      <td>2.736838</td>\n",
       "      <td>1.216222</td>\n",
       "      <td>-0.687006</td>\n",
       "      <td>-0.291175</td>\n",
       "      <td>-0.198756</td>\n",
       "      <td>0.795807</td>\n",
       "      <td>0.266182</td>\n",
       "      <td>-0.913350</td>\n",
       "      <td>-0.155292</td>\n",
       "    </tr>\n",
       "    <tr>\n",
       "      <th>763</th>\n",
       "      <td>-1.722372</td>\n",
       "      <td>2.095939</td>\n",
       "      <td>-0.067623</td>\n",
       "      <td>-1.193654</td>\n",
       "      <td>-0.398618</td>\n",
       "      <td>2.383472</td>\n",
       "      <td>0.289339</td>\n",
       "      <td>1.155443</td>\n",
       "      <td>0.294617</td>\n",
       "    </tr>\n",
       "    <tr>\n",
       "      <th>764</th>\n",
       "      <td>-0.945370</td>\n",
       "      <td>-0.724794</td>\n",
       "      <td>-1.076956</td>\n",
       "      <td>0.001943</td>\n",
       "      <td>-0.133113</td>\n",
       "      <td>-0.340027</td>\n",
       "      <td>-0.525456</td>\n",
       "      <td>0.117986</td>\n",
       "      <td>0.248815</td>\n",
       "    </tr>\n",
       "    <tr>\n",
       "      <th>765</th>\n",
       "      <td>1.527637</td>\n",
       "      <td>0.164203</td>\n",
       "      <td>0.779855</td>\n",
       "      <td>-0.792719</td>\n",
       "      <td>-0.693235</td>\n",
       "      <td>0.288544</td>\n",
       "      <td>-0.288199</td>\n",
       "      <td>-0.356876</td>\n",
       "      <td>-0.161157</td>\n",
       "    </tr>\n",
       "    <tr>\n",
       "      <th>766</th>\n",
       "      <td>-0.044665</td>\n",
       "      <td>0.563479</td>\n",
       "      <td>-1.207783</td>\n",
       "      <td>1.176287</td>\n",
       "      <td>-0.197016</td>\n",
       "      <td>-0.761386</td>\n",
       "      <td>0.724087</td>\n",
       "      <td>1.224431</td>\n",
       "      <td>0.407235</td>\n",
       "    </tr>\n",
       "    <tr>\n",
       "      <th>767</th>\n",
       "      <td>-0.396728</td>\n",
       "      <td>-1.369009</td>\n",
       "      <td>-1.279350</td>\n",
       "      <td>-0.499171</td>\n",
       "      <td>0.084998</td>\n",
       "      <td>0.045501</td>\n",
       "      <td>-0.107284</td>\n",
       "      <td>0.221769</td>\n",
       "      <td>0.854055</td>\n",
       "    </tr>\n",
       "  </tbody>\n",
       "</table>\n",
       "<p>768 rows × 9 columns</p>\n",
       "</div>"
      ],
      "text/plain": [
       "            0         1         2         3         4         5         6  \\\n",
       "0   -1.442309  1.335943 -0.049609  0.261458  0.498745  0.211267 -0.830658   \n",
       "1    1.944695 -0.823398  0.012277 -1.063185  0.278716  0.182570 -0.469422   \n",
       "2    1.829319  1.647986  1.215535  1.218344 -0.064786 -0.850187 -0.905927   \n",
       "3    1.889605 -1.351189  0.096767 -1.012872 -0.585189  0.154789 -0.046434   \n",
       "4   -2.409168 -1.736827  2.470565  2.597825  4.046802 -0.164171 -0.095078   \n",
       "5    2.286913  0.666016 -0.269038 -0.341162 -0.449885 -0.565513  0.017752   \n",
       "6   -0.330208 -1.337915 -1.187405 -0.021111 -0.144362  1.360531  0.279322   \n",
       "7    0.479426  0.349739 -2.167110  3.089985 -0.618694  2.225039 -0.354985   \n",
       "8   -2.686121  0.374060  2.987304  0.291631 -3.036652  0.811310  1.068384   \n",
       "9    3.278704  3.032899  0.681785 -1.066896 -0.387625 -0.338226  1.020607   \n",
       "10  -0.613706  0.421693 -1.826315 -0.380157 -0.287152 -1.139757  0.667836   \n",
       "11  -1.084738  1.885240 -0.733506  1.267692 -0.022661 -0.607001 -0.373861   \n",
       "12   1.209845  3.081891  1.759184  0.671587  2.695945 -0.527921  0.117092   \n",
       "13  -2.823665  0.239757  4.378770  1.317465 -3.319960  1.116019  3.535122   \n",
       "14   0.912393  1.596716  2.198338  0.157473 -0.473961 -0.203078 -0.108255   \n",
       "15   2.819331  0.000980 -0.467493  2.476218  0.357386  1.805465 -0.521044   \n",
       "16  -2.580430 -1.426317  0.521420 -0.944945 -0.130550 -0.031731  0.039590   \n",
       "17   2.052861  0.974464 -0.424845 -0.415395 -0.121260 -0.205090 -0.015195   \n",
       "18  -1.099186 -1.520770 -1.170189  0.882921 -0.567565  1.368357 -0.669520   \n",
       "19  -1.126562 -0.875475 -0.291956 -0.025448  0.136651 -0.094669  0.147271   \n",
       "20  -2.268132 -0.893393  0.861539 -0.752792  0.138822  0.039084  0.256511   \n",
       "21  -0.588517  2.034109 -1.604145 -0.063257  0.527802 -0.056594  0.968973   \n",
       "22  -1.530179  2.157036 -0.399100  0.975074 -0.565835 -1.784578 -0.496562   \n",
       "23   1.223163  0.852091  0.327639 -1.430978 -0.124370  0.714760 -1.384286   \n",
       "24  -2.033636  2.410146  0.051237 -0.896936 -0.622421  0.835699 -0.065225   \n",
       "25  -1.006101  1.429763 -0.520616 -0.079030 -0.627500  1.302604  0.103624   \n",
       "26  -0.946255  1.742445 -1.312316  0.745856 -0.466343 -0.672872  0.051713   \n",
       "27   2.048107 -1.193781  0.841120 -0.469765 -0.065185 -0.113620  0.557377   \n",
       "28   1.276260  3.491898  1.220046 -0.774404 -0.644551  1.070912 -0.209036   \n",
       "29  -0.581225  1.093937 -1.422757 -0.182491  0.040712 -1.026761  0.766207   \n",
       "..        ...       ...       ...       ...       ...       ...       ...   \n",
       "738 -0.811476 -1.435605 -0.653272  0.418674 -0.132854  0.243425  0.801313   \n",
       "739 -0.542703  0.225089 -1.795548  0.312545  0.036621 -0.957487  0.834824   \n",
       "740 -2.343355  1.691996  0.341504 -0.354391  0.986419  1.341783 -0.091320   \n",
       "741 -0.250497 -1.071685 -0.863931  0.940870 -0.125603  0.843287  0.369639   \n",
       "742  1.845656 -1.202655  0.419395 -0.286651 -0.796505  0.010761 -0.097306   \n",
       "743 -0.946646  2.343272 -0.563085  0.317634  0.885600 -0.852269  0.539399   \n",
       "744 -2.668800  1.871576  1.220319  0.027033  1.585081  0.769514 -0.583521   \n",
       "745  0.815858  2.075310  0.935792 -1.599136  0.549921  1.546766 -0.360066   \n",
       "746 -2.401040 -0.706572 -0.699572 -0.925619 -0.243845 -1.235936 -1.448718   \n",
       "747 -2.004806 -1.385058 -0.256927 -0.442828  2.229371  0.099831 -0.151899   \n",
       "748 -1.790651  0.265918  0.825628  0.987203 -1.324546 -0.646581 -0.124092   \n",
       "749  2.052051  2.169793  0.394629  0.692518 -0.983059 -0.495938 -0.461168   \n",
       "750 -0.517647 -0.222506 -0.157345  1.506899  1.731871 -1.249370  0.379886   \n",
       "751 -1.514608 -1.040460 -0.629269 -0.690686 -0.499587 -0.180796 -0.504613   \n",
       "752  2.031203 -0.560998 -0.001425 -0.605517 -0.347904  0.159538 -0.796077   \n",
       "753 -3.272249 -1.405625  2.298531 -0.515625 -2.649421 -0.274532  0.683634   \n",
       "754 -1.341743  1.628268 -0.268352  0.031605 -0.022011  0.230115 -0.886550   \n",
       "755 -1.992408 -0.533418  0.839810 -0.376172  1.373053 -0.650702 -0.002123   \n",
       "756 -1.442460  1.007693 -0.381099 -0.919075  0.049947  0.194343 -0.896509   \n",
       "757 -0.509008  0.762853 -1.430546  0.637807 -0.306962 -1.192073  0.774043   \n",
       "758 -0.329936 -0.570171 -1.914458  0.189627 -0.361136 -1.141040  0.634075   \n",
       "759 -1.334122  3.390346 -0.432573  0.723549 -0.823671 -1.583142  0.041987   \n",
       "760  1.806777 -1.274887  0.492941 -0.344084  1.192295  0.213162 -0.519600   \n",
       "761 -2.058162  1.720887 -0.442113  0.393422 -0.244475  0.116914 -1.498240   \n",
       "762  2.736838  1.216222 -0.687006 -0.291175 -0.198756  0.795807  0.266182   \n",
       "763 -1.722372  2.095939 -0.067623 -1.193654 -0.398618  2.383472  0.289339   \n",
       "764 -0.945370 -0.724794 -1.076956  0.001943 -0.133113 -0.340027 -0.525456   \n",
       "765  1.527637  0.164203  0.779855 -0.792719 -0.693235  0.288544 -0.288199   \n",
       "766 -0.044665  0.563479 -1.207783  1.176287 -0.197016 -0.761386  0.724087   \n",
       "767 -0.396728 -1.369009 -1.279350 -0.499171  0.084998  0.045501 -0.107284   \n",
       "\n",
       "            7         8  \n",
       "0    0.794652  0.708481  \n",
       "1    0.727383 -0.141957  \n",
       "2   -1.223559  0.322075  \n",
       "3   -0.026320 -0.469335  \n",
       "4    0.559725 -0.456004  \n",
       "5   -0.609028 -0.248679  \n",
       "6    0.248085  0.444867  \n",
       "7   -0.833357 -0.422219  \n",
       "8    1.414310  0.430546  \n",
       "9    0.185636  2.433326  \n",
       "10  -0.605790 -0.187934  \n",
       "11  -1.503455 -0.020649  \n",
       "12  -0.273281 -0.290545  \n",
       "13   1.443575 -0.434714  \n",
       "14   0.612745 -0.155621  \n",
       "15  -0.166969 -1.169875  \n",
       "16   0.629494 -0.745289  \n",
       "17  -0.903760 -0.714657  \n",
       "18   1.223382 -0.794042  \n",
       "19   0.552266  0.316280  \n",
       "20  -0.321052 -0.045060  \n",
       "21  -0.014235 -0.174007  \n",
       "22  -0.759612 -0.041087  \n",
       "23  -0.940852 -0.064481  \n",
       "24  -0.291487  0.161967  \n",
       "25  -0.497226  0.538271  \n",
       "26  -0.310108 -0.361493  \n",
       "27  -0.209783 -0.066301  \n",
       "28  -0.319244  0.187362  \n",
       "29  -0.334027  0.176212  \n",
       "..        ...       ...  \n",
       "738 -0.398157 -0.244358  \n",
       "739  0.829901 -0.595741  \n",
       "740 -0.372869 -0.489511  \n",
       "741  0.011945  0.399787  \n",
       "742 -0.053040 -0.558863  \n",
       "743 -0.791777  0.450044  \n",
       "744 -1.538540  0.028500  \n",
       "745 -0.583446 -0.536983  \n",
       "746  0.155413 -0.611498  \n",
       "747  0.623894 -0.772265  \n",
       "748  0.057459  0.164730  \n",
       "749  0.442035 -0.090402  \n",
       "750 -1.189359  0.680372  \n",
       "751  0.417940  0.081748  \n",
       "752 -0.065747 -0.027939  \n",
       "753 -0.075700 -0.653849  \n",
       "754  0.062085  0.866842  \n",
       "755  0.634664  0.413139  \n",
       "756 -0.046353  1.047541  \n",
       "757  1.603409 -0.240036  \n",
       "758 -0.156130 -0.253894  \n",
       "759  1.016630  0.191128  \n",
       "760 -0.106397 -0.309299  \n",
       "761 -0.292432 -0.295769  \n",
       "762 -0.913350 -0.155292  \n",
       "763  1.155443  0.294617  \n",
       "764  0.117986  0.248815  \n",
       "765 -0.356876 -0.161157  \n",
       "766  1.224431  0.407235  \n",
       "767  0.221769  0.854055  \n",
       "\n",
       "[768 rows x 9 columns]"
      ]
     },
     "execution_count": 163,
     "metadata": {},
     "output_type": "execute_result"
    }
   ],
   "source": [
    "dtrain"
   ]
  },
  {
   "cell_type": "code",
   "execution_count": 164,
   "metadata": {},
   "outputs": [
    {
     "data": {
      "text/plain": [
       "array([3.22415561, 1.74283112, 1.30977706, 0.92144054, 0.87666889,\n",
       "       0.75777366, 0.44313333, 0.42031723, 0.31694037])"
      ]
     },
     "execution_count": 164,
     "metadata": {},
     "output_type": "execute_result"
    }
   ],
   "source": [
    "pc.explained_variance_  #eigen values  "
   ]
  },
  {
   "cell_type": "code",
   "execution_count": 165,
   "metadata": {},
   "outputs": [
    {
     "data": {
      "text/plain": [
       "array([0.32199575, 0.17405618, 0.13080716, 0.09202407, 0.08755274,\n",
       "       0.0756787 , 0.04425563, 0.04197699, 0.03165277])"
      ]
     },
     "execution_count": 165,
     "metadata": {},
     "output_type": "execute_result"
    }
   ],
   "source": [
    "pc.explained_variance_ratio_ "
   ]
  },
  {
   "cell_type": "code",
   "execution_count": 166,
   "metadata": {},
   "outputs": [
    {
     "data": {
      "text/plain": [
       "array([0.32199575, 0.49605193, 0.62685909, 0.71888317, 0.80643591,\n",
       "       0.8821146 , 0.92637024, 0.96834723, 1.        ])"
      ]
     },
     "execution_count": 166,
     "metadata": {},
     "output_type": "execute_result"
    }
   ],
   "source": [
    "np.cumsum(pc.explained_variance_ratio_  )#here starting  shows the maximum variance"
   ]
  },
  {
   "cell_type": "code",
   "execution_count": 167,
   "metadata": {},
   "outputs": [
    {
     "data": {
      "text/plain": [
       "7"
      ]
     },
     "execution_count": 167,
     "metadata": {},
     "output_type": "execute_result"
    }
   ],
   "source": [
    "sum(np.cumsum(pc.explained_variance_ratio_)<=0.95)  "
   ]
  },
  {
   "cell_type": "code",
   "execution_count": 168,
   "metadata": {},
   "outputs": [
    {
     "data": {
      "text/plain": [
       "(768, 9)"
      ]
     },
     "execution_count": 168,
     "metadata": {},
     "output_type": "execute_result"
    }
   ],
   "source": [
    "dtrain.shape #here 8 is the no. of columns after applying PCA"
   ]
  },
  {
   "cell_type": "code",
   "execution_count": 171,
   "metadata": {},
   "outputs": [
    {
     "data": {
      "text/plain": [
       "(768, 9)"
      ]
     },
     "execution_count": 171,
     "metadata": {},
     "output_type": "execute_result"
    }
   ],
   "source": [
    "dtrain.shape"
   ]
  },
  {
   "cell_type": "code",
   "execution_count": 172,
   "metadata": {},
   "outputs": [
    {
     "data": {
      "text/plain": [
       "(768, 10)"
      ]
     },
     "execution_count": 172,
     "metadata": {},
     "output_type": "execute_result"
    }
   ],
   "source": [
    "diab.shape"
   ]
  },
  {
   "cell_type": "code",
   "execution_count": 173,
   "metadata": {},
   "outputs": [],
   "source": [
    "#defining the X and Y values\n",
    "x=dtrain\n",
    "y=diab.Outcome"
   ]
  },
  {
   "cell_type": "code",
   "execution_count": 174,
   "metadata": {},
   "outputs": [],
   "source": [
    "#splitting the data into training and testing\n",
    "from sklearn.model_selection import train_test_split\n",
    "xtrain,xtest,ytrain,ytest=train_test_split(x,y,test_size=0.30,random_state=123)\n",
    "#logic of random state is the we get same samples,we can take any value in random state"
   ]
  },
  {
   "cell_type": "markdown",
   "metadata": {},
   "source": [
    "# applying Logistic Regression"
   ]
  },
  {
   "cell_type": "code",
   "execution_count": 175,
   "metadata": {},
   "outputs": [],
   "source": [
    "from sklearn.linear_model import LogisticRegression\n",
    "lg=LogisticRegression()  #initiated the machine"
   ]
  },
  {
   "cell_type": "code",
   "execution_count": 176,
   "metadata": {},
   "outputs": [
    {
     "name": "stderr",
     "output_type": "stream",
     "text": [
      "C:\\Users\\AMIT YADAV\\AppData\\Local\\Continuum\\anaconda3\\lib\\site-packages\\sklearn\\linear_model\\logistic.py:433: FutureWarning: Default solver will be changed to 'lbfgs' in 0.22. Specify a solver to silence this warning.\n",
      "  FutureWarning)\n"
     ]
    }
   ],
   "source": [
    "#fit the model on the training\n",
    "model=lg.fit(xtrain,ytrain)"
   ]
  },
  {
   "cell_type": "code",
   "execution_count": 177,
   "metadata": {},
   "outputs": [
    {
     "data": {
      "text/plain": [
       "array([1, 0, 1, 0, 0, 1, 1, 0, 1, 0, 1, 0, 0, 0, 1, 0, 0, 0, 0, 0, 1, 0,\n",
       "       0, 1, 1, 0, 0, 0, 0, 1, 0, 1, 1, 0, 0, 0, 1, 0, 0, 0, 0, 0, 0, 0,\n",
       "       0, 1, 1, 0, 0, 0, 0, 0, 0, 0, 0, 0, 1, 1, 1, 1, 0, 0, 1, 0, 0, 0,\n",
       "       1, 0, 0, 0, 0, 0, 1, 0, 1, 0, 0, 0, 1, 0, 0, 1, 0, 1, 0, 0, 1, 0,\n",
       "       1, 0, 0, 0, 0, 0, 0, 0, 0, 1, 0, 0, 0, 1, 0, 0, 0, 0, 0, 1, 1, 0,\n",
       "       1, 0, 1, 1, 1, 0, 0, 1, 0, 0, 0, 1, 0, 1, 0, 1, 0, 0, 0, 0, 0, 0,\n",
       "       1, 0, 0, 0, 0, 1, 0, 0, 1, 1, 0, 0, 0, 0, 0, 0, 0, 0, 1, 0, 0, 0,\n",
       "       0, 0, 1, 0, 0, 1, 0, 0, 0, 1, 1, 1, 0, 0, 0, 1, 0, 1, 0, 0, 0, 0,\n",
       "       0, 0, 1, 1, 0, 1, 1, 0, 1, 0, 0, 1, 1, 0, 1, 0, 0, 1, 0, 0, 0, 0,\n",
       "       1, 0, 0, 0, 0, 1, 1, 0, 1, 1, 0, 1, 0, 1, 0, 0, 0, 0, 1, 0, 1, 1,\n",
       "       1, 1, 0, 0, 0, 0, 0, 1, 0, 0, 0], dtype=int64)"
      ]
     },
     "execution_count": 177,
     "metadata": {},
     "output_type": "execute_result"
    }
   ],
   "source": [
    "#predictions\n",
    "predictions = lg.predict(xtest)\n",
    "predictions"
   ]
  },
  {
   "cell_type": "code",
   "execution_count": 178,
   "metadata": {},
   "outputs": [],
   "source": [
    "from sklearn import metrics\n",
    "from sklearn.metrics import accuracy_score \n",
    "from sklearn.metrics import classification_report\n",
    "from sklearn.metrics import confusion_matrix\n",
    "from sklearn.metrics import cohen_kappa_score"
   ]
  },
  {
   "cell_type": "code",
   "execution_count": 179,
   "metadata": {},
   "outputs": [
    {
     "name": "stdout",
     "output_type": "stream",
     "text": [
      "0.7878787878787878\n",
      "\n",
      "\n",
      "[[125  18]\n",
      " [ 31  57]]\n",
      "\n",
      "\n",
      "              precision    recall  f1-score   support\n",
      "\n",
      "           0       0.80      0.87      0.84       143\n",
      "           1       0.76      0.65      0.70        88\n",
      "\n",
      "   micro avg       0.79      0.79      0.79       231\n",
      "   macro avg       0.78      0.76      0.77       231\n",
      "weighted avg       0.79      0.79      0.78       231\n",
      "\n",
      "\n",
      "\n",
      "0.5371120107962213\n"
     ]
    }
   ],
   "source": [
    "print(accuracy_score(ytest,predictions))\n",
    "print('\\n')\n",
    "print(confusion_matrix(ytest,predictions))\n",
    "print('\\n')\n",
    "print(classification_report(ytest,predictions))\n",
    "print('\\n')\n",
    "print(cohen_kappa_score(ytest,predictions))"
   ]
  },
  {
   "cell_type": "markdown",
   "metadata": {},
   "source": [
    "# applying Knn classifier"
   ]
  },
  {
   "cell_type": "code",
   "execution_count": 181,
   "metadata": {},
   "outputs": [],
   "source": [
    "from sklearn.neighbors import KNeighborsClassifier\n",
    "knn=KNeighborsClassifier()\n",
    "model=knn.fit(xtrain,ytrain)\n",
    "predictions=knn.predict(xtest)"
   ]
  },
  {
   "cell_type": "code",
   "execution_count": 182,
   "metadata": {},
   "outputs": [
    {
     "name": "stdout",
     "output_type": "stream",
     "text": [
      "0.7619047619047619\n",
      "\n",
      "\n",
      "[[124  19]\n",
      " [ 36  52]]\n",
      "\n",
      "\n",
      "              precision    recall  f1-score   support\n",
      "\n",
      "           0       0.78      0.87      0.82       143\n",
      "           1       0.73      0.59      0.65        88\n",
      "\n",
      "   micro avg       0.76      0.76      0.76       231\n",
      "   macro avg       0.75      0.73      0.74       231\n",
      "weighted avg       0.76      0.76      0.76       231\n",
      "\n",
      "\n",
      "\n",
      "0.4757149341806627\n"
     ]
    }
   ],
   "source": [
    "print(accuracy_score(ytest,predictions))\n",
    "print('\\n')\n",
    "print(confusion_matrix(ytest,predictions))\n",
    "print('\\n')\n",
    "print(classification_report(ytest,predictions))\n",
    "print('\\n')\n",
    "print(cohen_kappa_score(ytest,predictions))"
   ]
  },
  {
   "cell_type": "code",
   "execution_count": 183,
   "metadata": {},
   "outputs": [],
   "source": [
    "# Applying KNN and finding the optimal Kvalue\n",
    "error=[]\n",
    "for i in range (1,10):\n",
    "    knn=KNeighborsClassifier(n_neighbors=i)\n",
    "    knn.fit(xtrain,ytrain)\n",
    "    model_net=knn.predict(xtest)\n",
    "    error.append(np.mean(model_net != ytest)) "
   ]
  },
  {
   "cell_type": "code",
   "execution_count": 184,
   "metadata": {},
   "outputs": [
    {
     "data": {
      "image/png": "[encoded data removed]",
      "text/plain": [
       "<Figure size 432x288 with 1 Axes>"
      ]
     },
     "metadata": {
      "needs_background": "light"
     },
     "output_type": "display_data"
    }
   ],
   "source": [
    "#plot the error vs Kvalues\n",
    "import matplotlib.pyplot as plt\n",
    "plt.plot(range(1,10),error,'o-',linestyle='dashed',\n",
    "        markerfacecolor='red',markersize=10)\n",
    "plt.xlabel('K values')\n",
    "plt.ylabel('Error')\n",
    "plt.title('K Values Demystified' )\n",
    "plt.show()"
   ]
  },
  {
   "cell_type": "markdown",
   "metadata": {},
   "source": [
    "# applying Decision Tree Classifier"
   ]
  },
  {
   "cell_type": "code",
   "execution_count": 186,
   "metadata": {},
   "outputs": [],
   "source": [
    "from sklearn.tree import DecisionTreeClassifier\n",
    "dtree=DecisionTreeClassifier()\n",
    "model=dtree.fit(xtrain,ytrain)\n",
    "predictions=dtree.predict(xtest)"
   ]
  },
  {
   "cell_type": "code",
   "execution_count": 187,
   "metadata": {},
   "outputs": [
    {
     "name": "stdout",
     "output_type": "stream",
     "text": [
      "0.7229437229437229\n",
      "\n",
      "\n",
      "[[112  31]\n",
      " [ 33  55]]\n",
      "\n",
      "\n",
      "              precision    recall  f1-score   support\n",
      "\n",
      "           0       0.77      0.78      0.78       143\n",
      "           1       0.64      0.62      0.63        88\n",
      "\n",
      "   micro avg       0.72      0.72      0.72       231\n",
      "   macro avg       0.71      0.70      0.70       231\n",
      "weighted avg       0.72      0.72      0.72       231\n",
      "\n",
      "\n",
      "\n",
      "0.4100087796312555\n"
     ]
    }
   ],
   "source": [
    "print(accuracy_score(ytest,predictions))\n",
    "print('\\n')\n",
    "print(confusion_matrix(ytest,predictions))\n",
    "print('\\n')\n",
    "print(classification_report(ytest,predictions))\n",
    "print('\\n')\n",
    "print(cohen_kappa_score(ytest,predictions))"
   ]
  },
  {
   "cell_type": "markdown",
   "metadata": {},
   "source": [
    "# Applying Random Forest classifier"
   ]
  },
  {
   "cell_type": "code",
   "execution_count": 189,
   "metadata": {},
   "outputs": [
    {
     "name": "stderr",
     "output_type": "stream",
     "text": [
      "C:\\Users\\AMIT YADAV\\AppData\\Local\\Continuum\\anaconda3\\lib\\site-packages\\sklearn\\ensemble\\forest.py:246: FutureWarning: The default value of n_estimators will change from 10 in version 0.20 to 100 in 0.22.\n",
      "  \"10 in version 0.20 to 100 in 0.22.\", FutureWarning)\n"
     ]
    }
   ],
   "source": [
    "from sklearn.ensemble import RandomForestClassifier\n",
    "rf=RandomForestClassifier()\n",
    "model=rf.fit(xtrain,ytrain)\n",
    "predictions=rf.predict(xtest)\n"
   ]
  },
  {
   "cell_type": "code",
   "execution_count": 190,
   "metadata": {},
   "outputs": [
    {
     "name": "stdout",
     "output_type": "stream",
     "text": [
      "0.7705627705627706\n",
      "\n",
      "\n",
      "[[127  16]\n",
      " [ 37  51]]\n",
      "\n",
      "\n",
      "              precision    recall  f1-score   support\n",
      "\n",
      "           0       0.77      0.89      0.83       143\n",
      "           1       0.76      0.58      0.66        88\n",
      "\n",
      "   micro avg       0.77      0.77      0.77       231\n",
      "   macro avg       0.77      0.73      0.74       231\n",
      "weighted avg       0.77      0.77      0.76       231\n",
      "\n",
      "\n",
      "\n",
      "0.4901511681172698\n"
     ]
    }
   ],
   "source": [
    "print(accuracy_score(ytest,predictions))\n",
    "print('\\n')\n",
    "print(confusion_matrix(ytest,predictions))\n",
    "print('\\n')\n",
    "print(classification_report(ytest,predictions))\n",
    "print('\\n')\n",
    "print(cohen_kappa_score(ytest,predictions))"
   ]
  }
 ],
 "metadata": {
  "kernelspec": {
   "display_name": "Python 3",
   "language": "python",
   "name": "python3"
  },
  "language_info": {
   "codemirror_mode": {
    "name": "ipython",
    "version": 3
   },
   "file_extension": ".py",
   "mimetype": "text/x-python",
   "name": "python",
   "nbconvert_exporter": "python",
   "pygments_lexer": "ipython3",
   "version": "3.7.1"
  }
 },
 "nbformat": 4,
 "nbformat_minor": 2
}
